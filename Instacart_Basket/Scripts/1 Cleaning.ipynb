{
 "cells": [
  {
   "cell_type": "markdown",
   "id": "90afd316-3b3b-485b-b8a8-c1aa9c50bd10",
   "metadata": {},
   "source": [
    "# Cleaning and Preparing"
   ]
  },
  {
   "cell_type": "markdown",
   "id": "afa3f4d5-9a8b-4178-a03f-415f0ae3672c",
   "metadata": {},
   "source": [
    "## Table of Content"
   ]
  },
  {
   "cell_type": "markdown",
   "id": "8ad1861d-2d29-41f2-a13a-f9a595163334",
   "metadata": {},
   "source": [
    "#### 1. Import Data"
   ]
  },
  {
   "cell_type": "markdown",
   "id": "6244a9ab-66e0-49eb-b8a8-1119e57ffab2",
   "metadata": {},
   "source": [
    "#### 2. Data Cleaning - Order Data"
   ]
  },
  {
   "cell_type": "markdown",
   "id": "d4cff9e0-223c-4a49-8419-d230b670b874",
   "metadata": {},
   "source": [
    "#### 3. Data Cleaning - Products Data"
   ]
  },
  {
   "cell_type": "markdown",
   "id": "83327e54-df0c-45d3-bb90-6c156111c465",
   "metadata": {},
   "source": [
    "#### 4. Cleaning Data - Ordered Products"
   ]
  },
  {
   "cell_type": "markdown",
   "id": "b77916cc-c761-4223-a605-996a570ee2b3",
   "metadata": {},
   "source": [
    "#### 5. Cleaning Data - Ordered Products train"
   ]
  },
  {
   "cell_type": "markdown",
   "id": "eac8cb46-cffa-45d0-afb2-9957960a7f3d",
   "metadata": {},
   "source": [
    "#### 6. Saving Data"
   ]
  },
  {
   "cell_type": "code",
   "execution_count": 1,
   "id": "8975d3be",
   "metadata": {},
   "outputs": [],
   "source": [
    "# Import Libraries\n",
    "import pandas as pd\n",
    "import numpy as np\n",
    "import os"
   ]
  },
  {
   "cell_type": "markdown",
   "id": "48602af6",
   "metadata": {},
   "source": [
    "## 1. Import Data"
   ]
  },
  {
   "cell_type": "code",
   "execution_count": 2,
   "id": "20e858c4",
   "metadata": {},
   "outputs": [],
   "source": [
    "path = r'/Users/henning/Portfolio/Instacart_Basket'"
   ]
  },
  {
   "cell_type": "code",
   "execution_count": 3,
   "id": "a60f89ba",
   "metadata": {},
   "outputs": [],
   "source": [
    "df_orders = pd.read_csv(os.path.join(path, 'Data', 'Original Data', 'orders.csv'), index_col = False)"
   ]
  },
  {
   "cell_type": "code",
   "execution_count": 4,
   "id": "ae5014d8",
   "metadata": {},
   "outputs": [],
   "source": [
    "df_products = pd.read_csv(os.path.join(path, 'Data', 'Original Data', 'products.csv'), index_col = False)"
   ]
  },
  {
   "cell_type": "code",
   "execution_count": 5,
   "id": "f3cc657d",
   "metadata": {},
   "outputs": [],
   "source": [
    "df_order_prior = pd.read_csv(os.path.join(path, 'Data', 'Original Data', 'order_products__prior.csv'), index_col = False)"
   ]
  },
  {
   "cell_type": "code",
   "execution_count": 6,
   "id": "7e3ecec7",
   "metadata": {},
   "outputs": [],
   "source": [
    "df_order_train = pd.read_csv(os.path.join(path, 'Data', 'Original Data', 'order_products__train.csv'), index_col = False)"
   ]
  },
  {
   "cell_type": "markdown",
   "id": "5dba557d",
   "metadata": {},
   "source": [
    "## 2. Data Cleaning - Order Data"
   ]
  },
  {
   "cell_type": "code",
   "execution_count": 7,
   "id": "4ec7eb70",
   "metadata": {},
   "outputs": [
    {
     "data": {
      "text/plain": [
       "(3421083, 7)"
      ]
     },
     "execution_count": 7,
     "metadata": {},
     "output_type": "execute_result"
    }
   ],
   "source": [
    "df_orders.shape"
   ]
  },
  {
   "cell_type": "code",
   "execution_count": 8,
   "id": "84d0ede3",
   "metadata": {},
   "outputs": [
    {
     "data": {
      "text/plain": [
       "eval_set\n",
       "prior    3214874\n",
       "train     131209\n",
       "test       75000\n",
       "Name: count, dtype: int64"
      ]
     },
     "execution_count": 8,
     "metadata": {},
     "output_type": "execute_result"
    }
   ],
   "source": [
    "# checking on eval_set\n",
    "df_orders['eval_set'].value_counts()"
   ]
  },
  {
   "cell_type": "code",
   "execution_count": 9,
   "id": "3d15afe0",
   "metadata": {},
   "outputs": [],
   "source": [
    "# removing the test rows. This rows are in the data set to test predictions on the reordered column.\n",
    "# Because this analysis doesn't attempt this, the rows can be removed.\n",
    "df_orders = df_orders[df_orders['eval_set'] != 'test']"
   ]
  },
  {
   "cell_type": "code",
   "execution_count": 10,
   "id": "ec0f49aa",
   "metadata": {},
   "outputs": [],
   "source": [
    "# renaming column for better understanding and readability\n",
    "df_orders.rename(columns = {'order_dow' : 'order_weekday'}, inplace = True)"
   ]
  },
  {
   "cell_type": "code",
   "execution_count": 11,
   "id": "1d62d85e",
   "metadata": {},
   "outputs": [],
   "source": [
    "# checking if mixed data types column exist\n",
    "for col in df_orders.columns.tolist():\n",
    "  weird = (df_orders[[col]].map(type) != df_orders[[col]].iloc[0].apply(type)).any(axis = 1)\n",
    "  if len (df_orders[weird]) > 0:\n",
    "    print (col)"
   ]
  },
  {
   "cell_type": "code",
   "execution_count": 12,
   "id": "40e629d4",
   "metadata": {},
   "outputs": [
    {
     "data": {
      "text/plain": [
       "order_id                       0\n",
       "user_id                        0\n",
       "eval_set                       0\n",
       "order_number                   0\n",
       "order_weekday                  0\n",
       "order_hour_of_day              0\n",
       "days_since_prior_order    206209\n",
       "dtype: int64"
      ]
     },
     "execution_count": 12,
     "metadata": {},
     "output_type": "execute_result"
    }
   ],
   "source": [
    "# checking on empty cells\n",
    "df_orders.isnull().sum()"
   ]
  },
  {
   "cell_type": "code",
   "execution_count": 13,
   "id": "c2cfd164",
   "metadata": {},
   "outputs": [
    {
     "data": {
      "text/plain": [
       "206209"
      ]
     },
     "execution_count": 13,
     "metadata": {},
     "output_type": "execute_result"
    }
   ],
   "source": [
    "# empty rows in days_prior_last_order can be explained that the first order from a customer must be empty.\n",
    "# first-time customers can't have a prior order.\n",
    "# Therefore the empty rows should match the number of customers.\n",
    "df_orders.user_id.max()"
   ]
  },
  {
   "cell_type": "markdown",
   "id": "c1e4b476",
   "metadata": {},
   "source": [
    "the number of customers matches with the number of empty cells in the days_since_prior_order column"
   ]
  },
  {
   "cell_type": "code",
   "execution_count": 14,
   "id": "f6d281f2",
   "metadata": {},
   "outputs": [
    {
     "data": {
      "text/html": [
       "<div>\n",
       "<style scoped>\n",
       "    .dataframe tbody tr th:only-of-type {\n",
       "        vertical-align: middle;\n",
       "    }\n",
       "\n",
       "    .dataframe tbody tr th {\n",
       "        vertical-align: top;\n",
       "    }\n",
       "\n",
       "    .dataframe thead th {\n",
       "        text-align: right;\n",
       "    }\n",
       "</style>\n",
       "<table border=\"1\" class=\"dataframe\">\n",
       "  <thead>\n",
       "    <tr style=\"text-align: right;\">\n",
       "      <th></th>\n",
       "      <th>order_id</th>\n",
       "      <th>user_id</th>\n",
       "      <th>eval_set</th>\n",
       "      <th>order_number</th>\n",
       "      <th>order_weekday</th>\n",
       "      <th>order_hour_of_day</th>\n",
       "      <th>days_since_prior_order</th>\n",
       "    </tr>\n",
       "  </thead>\n",
       "  <tbody>\n",
       "  </tbody>\n",
       "</table>\n",
       "</div>"
      ],
      "text/plain": [
       "Empty DataFrame\n",
       "Columns: [order_id, user_id, eval_set, order_number, order_weekday, order_hour_of_day, days_since_prior_order]\n",
       "Index: []"
      ]
     },
     "execution_count": 14,
     "metadata": {},
     "output_type": "execute_result"
    }
   ],
   "source": [
    "# Run a check for duplicate values.\n",
    "df_orders[df_orders.duplicated()]"
   ]
  },
  {
   "cell_type": "markdown",
   "id": "1bdb3002",
   "metadata": {},
   "source": [
    "no duplicates found"
   ]
  },
  {
   "cell_type": "code",
   "execution_count": 15,
   "id": "ffc06403",
   "metadata": {},
   "outputs": [
    {
     "data": {
      "text/html": [
       "<div>\n",
       "<style scoped>\n",
       "    .dataframe tbody tr th:only-of-type {\n",
       "        vertical-align: middle;\n",
       "    }\n",
       "\n",
       "    .dataframe tbody tr th {\n",
       "        vertical-align: top;\n",
       "    }\n",
       "\n",
       "    .dataframe thead th {\n",
       "        text-align: right;\n",
       "    }\n",
       "</style>\n",
       "<table border=\"1\" class=\"dataframe\">\n",
       "  <thead>\n",
       "    <tr style=\"text-align: right;\">\n",
       "      <th></th>\n",
       "      <th>order_id</th>\n",
       "      <th>user_id</th>\n",
       "      <th>eval_set</th>\n",
       "      <th>order_number</th>\n",
       "      <th>order_weekday</th>\n",
       "      <th>order_hour_of_day</th>\n",
       "      <th>days_since_prior_order</th>\n",
       "    </tr>\n",
       "  </thead>\n",
       "  <tbody>\n",
       "    <tr>\n",
       "      <th>1292198</th>\n",
       "      <td>159007</td>\n",
       "      <td>77699</td>\n",
       "      <td>prior</td>\n",
       "      <td>51</td>\n",
       "      <td>0</td>\n",
       "      <td>10</td>\n",
       "      <td>7.0</td>\n",
       "    </tr>\n",
       "    <tr>\n",
       "      <th>1054798</th>\n",
       "      <td>3417904</td>\n",
       "      <td>63499</td>\n",
       "      <td>train</td>\n",
       "      <td>6</td>\n",
       "      <td>5</td>\n",
       "      <td>10</td>\n",
       "      <td>11.0</td>\n",
       "    </tr>\n",
       "    <tr>\n",
       "      <th>182220</th>\n",
       "      <td>1793315</td>\n",
       "      <td>11015</td>\n",
       "      <td>prior</td>\n",
       "      <td>31</td>\n",
       "      <td>4</td>\n",
       "      <td>15</td>\n",
       "      <td>5.0</td>\n",
       "    </tr>\n",
       "    <tr>\n",
       "      <th>514823</th>\n",
       "      <td>208755</td>\n",
       "      <td>31056</td>\n",
       "      <td>prior</td>\n",
       "      <td>9</td>\n",
       "      <td>5</td>\n",
       "      <td>13</td>\n",
       "      <td>2.0</td>\n",
       "    </tr>\n",
       "    <tr>\n",
       "      <th>2897326</th>\n",
       "      <td>1002145</td>\n",
       "      <td>174837</td>\n",
       "      <td>prior</td>\n",
       "      <td>5</td>\n",
       "      <td>4</td>\n",
       "      <td>8</td>\n",
       "      <td>17.0</td>\n",
       "    </tr>\n",
       "  </tbody>\n",
       "</table>\n",
       "</div>"
      ],
      "text/plain": [
       "         order_id  user_id eval_set  order_number  order_weekday  \\\n",
       "1292198    159007    77699    prior            51              0   \n",
       "1054798   3417904    63499    train             6              5   \n",
       "182220    1793315    11015    prior            31              4   \n",
       "514823     208755    31056    prior             9              5   \n",
       "2897326   1002145   174837    prior             5              4   \n",
       "\n",
       "         order_hour_of_day  days_since_prior_order  \n",
       "1292198                 10                     7.0  \n",
       "1054798                 10                    11.0  \n",
       "182220                  15                     5.0  \n",
       "514823                  13                     2.0  \n",
       "2897326                  8                    17.0  "
      ]
     },
     "execution_count": 15,
     "metadata": {},
     "output_type": "execute_result"
    }
   ],
   "source": [
    "df_orders.sample(5)"
   ]
  },
  {
   "cell_type": "code",
   "execution_count": 16,
   "id": "b5d341fd",
   "metadata": {},
   "outputs": [
    {
     "name": "stdout",
     "output_type": "stream",
     "text": [
      "<class 'pandas.core.frame.DataFrame'>\n",
      "Index: 3346083 entries, 0 to 3421082\n",
      "Data columns (total 7 columns):\n",
      " #   Column                  Dtype  \n",
      "---  ------                  -----  \n",
      " 0   order_id                int64  \n",
      " 1   user_id                 int64  \n",
      " 2   eval_set                object \n",
      " 3   order_number            int64  \n",
      " 4   order_weekday           int64  \n",
      " 5   order_hour_of_day       int64  \n",
      " 6   days_since_prior_order  float64\n",
      "dtypes: float64(1), int64(5), object(1)\n",
      "memory usage: 204.2+ MB\n"
     ]
    }
   ],
   "source": [
    "# checking on data types\n",
    "df_orders.info()"
   ]
  },
  {
   "cell_type": "code",
   "execution_count": 17,
   "id": "383f6f0c",
   "metadata": {},
   "outputs": [],
   "source": [
    "# changing columns with IDs to string type\n",
    "df_orders['user_id'] = df_orders['user_id'].astype('str')\n",
    "df_orders['order_id'] = df_orders['order_id'].astype('str')"
   ]
  },
  {
   "cell_type": "code",
   "execution_count": 18,
   "id": "2ecf7f1c",
   "metadata": {},
   "outputs": [
    {
     "data": {
      "text/plain": [
       "(3346083, 7)"
      ]
     },
     "execution_count": 18,
     "metadata": {},
     "output_type": "execute_result"
    }
   ],
   "source": [
    "df_orders.shape"
   ]
  },
  {
   "cell_type": "markdown",
   "id": "e0b84fc8",
   "metadata": {},
   "source": [
    "## 3. Data Cleaning - Products Data"
   ]
  },
  {
   "cell_type": "code",
   "execution_count": 19,
   "id": "84cf325b",
   "metadata": {},
   "outputs": [
    {
     "data": {
      "text/plain": [
       "(49688, 4)"
      ]
     },
     "execution_count": 19,
     "metadata": {},
     "output_type": "execute_result"
    }
   ],
   "source": [
    "df_products.shape"
   ]
  },
  {
   "cell_type": "code",
   "execution_count": 20,
   "id": "210ad56f",
   "metadata": {},
   "outputs": [
    {
     "data": {
      "text/plain": [
       "product_id       0\n",
       "product_name     0\n",
       "aisle_id         0\n",
       "department_id    0\n",
       "dtype: int64"
      ]
     },
     "execution_count": 20,
     "metadata": {},
     "output_type": "execute_result"
    }
   ],
   "source": [
    "# checking for empty cells\n",
    "df_products.isnull().sum()"
   ]
  },
  {
   "cell_type": "code",
   "execution_count": 21,
   "id": "95edfc3e",
   "metadata": {},
   "outputs": [
    {
     "data": {
      "text/html": [
       "<div>\n",
       "<style scoped>\n",
       "    .dataframe tbody tr th:only-of-type {\n",
       "        vertical-align: middle;\n",
       "    }\n",
       "\n",
       "    .dataframe tbody tr th {\n",
       "        vertical-align: top;\n",
       "    }\n",
       "\n",
       "    .dataframe thead th {\n",
       "        text-align: right;\n",
       "    }\n",
       "</style>\n",
       "<table border=\"1\" class=\"dataframe\">\n",
       "  <thead>\n",
       "    <tr style=\"text-align: right;\">\n",
       "      <th></th>\n",
       "      <th>product_id</th>\n",
       "      <th>product_name</th>\n",
       "      <th>aisle_id</th>\n",
       "      <th>department_id</th>\n",
       "    </tr>\n",
       "  </thead>\n",
       "  <tbody>\n",
       "  </tbody>\n",
       "</table>\n",
       "</div>"
      ],
      "text/plain": [
       "Empty DataFrame\n",
       "Columns: [product_id, product_name, aisle_id, department_id]\n",
       "Index: []"
      ]
     },
     "execution_count": 21,
     "metadata": {},
     "output_type": "execute_result"
    }
   ],
   "source": [
    "# checking for products with missing names.\n",
    "df_products[df_products['product_name'].isnull() == True]"
   ]
  },
  {
   "cell_type": "code",
   "execution_count": 22,
   "id": "94437a24",
   "metadata": {},
   "outputs": [
    {
     "data": {
      "text/html": [
       "<div>\n",
       "<style scoped>\n",
       "    .dataframe tbody tr th:only-of-type {\n",
       "        vertical-align: middle;\n",
       "    }\n",
       "\n",
       "    .dataframe tbody tr th {\n",
       "        vertical-align: top;\n",
       "    }\n",
       "\n",
       "    .dataframe thead th {\n",
       "        text-align: right;\n",
       "    }\n",
       "</style>\n",
       "<table border=\"1\" class=\"dataframe\">\n",
       "  <thead>\n",
       "    <tr style=\"text-align: right;\">\n",
       "      <th></th>\n",
       "      <th>product_id</th>\n",
       "      <th>product_name</th>\n",
       "      <th>aisle_id</th>\n",
       "      <th>department_id</th>\n",
       "    </tr>\n",
       "  </thead>\n",
       "  <tbody>\n",
       "  </tbody>\n",
       "</table>\n",
       "</div>"
      ],
      "text/plain": [
       "Empty DataFrame\n",
       "Columns: [product_id, product_name, aisle_id, department_id]\n",
       "Index: []"
      ]
     },
     "execution_count": 22,
     "metadata": {},
     "output_type": "execute_result"
    }
   ],
   "source": [
    "# looking for duplicates\n",
    "df_products[df_products.duplicated()]"
   ]
  },
  {
   "cell_type": "code",
   "execution_count": 23,
   "id": "b9774963",
   "metadata": {},
   "outputs": [],
   "source": [
    "# Check for mixed-type data\n",
    "for col in df_products.columns.tolist():\n",
    "  weird = (df_products[[col]].map(type) != df_products[[col]].iloc[0].apply(type)).any(axis = 1)\n",
    "  if len (df_products[weird]) > 0:\n",
    "    print (col)"
   ]
  },
  {
   "cell_type": "code",
   "execution_count": 24,
   "id": "984ad44f",
   "metadata": {},
   "outputs": [
    {
     "name": "stdout",
     "output_type": "stream",
     "text": [
      "<class 'pandas.core.frame.DataFrame'>\n",
      "RangeIndex: 49688 entries, 0 to 49687\n",
      "Data columns (total 4 columns):\n",
      " #   Column         Non-Null Count  Dtype \n",
      "---  ------         --------------  ----- \n",
      " 0   product_id     49688 non-null  int64 \n",
      " 1   product_name   49688 non-null  object\n",
      " 2   aisle_id       49688 non-null  int64 \n",
      " 3   department_id  49688 non-null  int64 \n",
      "dtypes: int64(3), object(1)\n",
      "memory usage: 1.5+ MB\n"
     ]
    }
   ],
   "source": [
    "# checking on data types\n",
    "df_products.info()"
   ]
  },
  {
   "cell_type": "code",
   "execution_count": 25,
   "id": "79644dc1",
   "metadata": {},
   "outputs": [],
   "source": [
    "# changing columns with IDs to string type\n",
    "df_products['product_id'] = df_products['product_id'].astype('str')\n",
    "df_products['aisle_id'] = df_products['aisle_id'].astype('str')\n",
    "df_products['department_id'] = df_products['department_id'].astype('str')"
   ]
  },
  {
   "cell_type": "code",
   "execution_count": 26,
   "id": "305fe778",
   "metadata": {},
   "outputs": [
    {
     "data": {
      "text/plain": [
       "(49688, 4)"
      ]
     },
     "execution_count": 26,
     "metadata": {},
     "output_type": "execute_result"
    }
   ],
   "source": [
    "df_products.shape"
   ]
  },
  {
   "cell_type": "markdown",
   "id": "daa9b502",
   "metadata": {},
   "source": [
    "## 4. Cleaning Data - Ordered Products"
   ]
  },
  {
   "cell_type": "markdown",
   "id": "bccd3bb3-a3fd-4cb8-8143-9e758070d310",
   "metadata": {},
   "source": [
    "Dataset is called order_products__prior"
   ]
  },
  {
   "cell_type": "code",
   "execution_count": 27,
   "id": "8230734f",
   "metadata": {},
   "outputs": [
    {
     "data": {
      "text/plain": [
       "(32434489, 4)"
      ]
     },
     "execution_count": 27,
     "metadata": {},
     "output_type": "execute_result"
    }
   ],
   "source": [
    "df_order_prior.shape"
   ]
  },
  {
   "cell_type": "code",
   "execution_count": 28,
   "id": "d0bc53bf",
   "metadata": {},
   "outputs": [
    {
     "data": {
      "text/html": [
       "<div>\n",
       "<style scoped>\n",
       "    .dataframe tbody tr th:only-of-type {\n",
       "        vertical-align: middle;\n",
       "    }\n",
       "\n",
       "    .dataframe tbody tr th {\n",
       "        vertical-align: top;\n",
       "    }\n",
       "\n",
       "    .dataframe thead th {\n",
       "        text-align: right;\n",
       "    }\n",
       "</style>\n",
       "<table border=\"1\" class=\"dataframe\">\n",
       "  <thead>\n",
       "    <tr style=\"text-align: right;\">\n",
       "      <th></th>\n",
       "      <th>order_id</th>\n",
       "      <th>product_id</th>\n",
       "      <th>add_to_cart_order</th>\n",
       "      <th>reordered</th>\n",
       "    </tr>\n",
       "  </thead>\n",
       "  <tbody>\n",
       "    <tr>\n",
       "      <th>11059618</th>\n",
       "      <td>1167531</td>\n",
       "      <td>16797</td>\n",
       "      <td>1</td>\n",
       "      <td>1</td>\n",
       "    </tr>\n",
       "    <tr>\n",
       "      <th>29166476</th>\n",
       "      <td>3076062</td>\n",
       "      <td>12456</td>\n",
       "      <td>1</td>\n",
       "      <td>0</td>\n",
       "    </tr>\n",
       "    <tr>\n",
       "      <th>7028810</th>\n",
       "      <td>742062</td>\n",
       "      <td>48205</td>\n",
       "      <td>4</td>\n",
       "      <td>1</td>\n",
       "    </tr>\n",
       "    <tr>\n",
       "      <th>8252302</th>\n",
       "      <td>871153</td>\n",
       "      <td>47209</td>\n",
       "      <td>2</td>\n",
       "      <td>1</td>\n",
       "    </tr>\n",
       "    <tr>\n",
       "      <th>26422643</th>\n",
       "      <td>2786298</td>\n",
       "      <td>46969</td>\n",
       "      <td>13</td>\n",
       "      <td>0</td>\n",
       "    </tr>\n",
       "  </tbody>\n",
       "</table>\n",
       "</div>"
      ],
      "text/plain": [
       "          order_id  product_id  add_to_cart_order  reordered\n",
       "11059618   1167531       16797                  1          1\n",
       "29166476   3076062       12456                  1          0\n",
       "7028810     742062       48205                  4          1\n",
       "8252302     871153       47209                  2          1\n",
       "26422643   2786298       46969                 13          0"
      ]
     },
     "execution_count": 28,
     "metadata": {},
     "output_type": "execute_result"
    }
   ],
   "source": [
    "df_order_prior.sample(5)"
   ]
  },
  {
   "cell_type": "code",
   "execution_count": 29,
   "id": "608d109e",
   "metadata": {},
   "outputs": [],
   "source": [
    "# removing unnecessary column. The column only indicates in which sequence the products were added in the basket. This aspect won't be analysed.\n",
    "df_order_prior = df_order_prior.drop(columns = ['add_to_cart_order'])"
   ]
  },
  {
   "cell_type": "code",
   "execution_count": 30,
   "id": "8241c3c2",
   "metadata": {},
   "outputs": [
    {
     "data": {
      "text/plain": [
       "order_id      0\n",
       "product_id    0\n",
       "reordered     0\n",
       "dtype: int64"
      ]
     },
     "execution_count": 30,
     "metadata": {},
     "output_type": "execute_result"
    }
   ],
   "source": [
    "# checking for empty cells\n",
    "df_order_prior.isnull().sum()"
   ]
  },
  {
   "cell_type": "code",
   "execution_count": 31,
   "id": "4a5ef227",
   "metadata": {},
   "outputs": [],
   "source": [
    "# checking if mixed data types column exist\n",
    "for col in df_order_prior.columns.tolist():\n",
    "  weird = (df_order_prior[[col]].map(type) != df_order_prior[[col]].iloc[0].apply(type)).any(axis = 1)\n",
    "  if len (df_order_prior[weird]) > 0:\n",
    "    print (col)"
   ]
  },
  {
   "cell_type": "code",
   "execution_count": 32,
   "id": "bc5fdf34",
   "metadata": {},
   "outputs": [
    {
     "data": {
      "text/html": [
       "<div>\n",
       "<style scoped>\n",
       "    .dataframe tbody tr th:only-of-type {\n",
       "        vertical-align: middle;\n",
       "    }\n",
       "\n",
       "    .dataframe tbody tr th {\n",
       "        vertical-align: top;\n",
       "    }\n",
       "\n",
       "    .dataframe thead th {\n",
       "        text-align: right;\n",
       "    }\n",
       "</style>\n",
       "<table border=\"1\" class=\"dataframe\">\n",
       "  <thead>\n",
       "    <tr style=\"text-align: right;\">\n",
       "      <th></th>\n",
       "      <th>order_id</th>\n",
       "      <th>product_id</th>\n",
       "      <th>reordered</th>\n",
       "    </tr>\n",
       "  </thead>\n",
       "  <tbody>\n",
       "  </tbody>\n",
       "</table>\n",
       "</div>"
      ],
      "text/plain": [
       "Empty DataFrame\n",
       "Columns: [order_id, product_id, reordered]\n",
       "Index: []"
      ]
     },
     "execution_count": 32,
     "metadata": {},
     "output_type": "execute_result"
    }
   ],
   "source": [
    "# Run a check for duplicate values.\n",
    "df_order_prior[df_order_prior.duplicated()]"
   ]
  },
  {
   "cell_type": "code",
   "execution_count": 33,
   "id": "6efc7548",
   "metadata": {},
   "outputs": [],
   "source": [
    "# changing columns with IDs to string type\n",
    "df_order_prior['product_id'] = df_order_prior['product_id'].astype('str')\n",
    "df_order_prior['order_id'] = df_order_prior['order_id'].astype('str')"
   ]
  },
  {
   "cell_type": "code",
   "execution_count": 34,
   "id": "580245b7",
   "metadata": {},
   "outputs": [
    {
     "data": {
      "text/plain": [
       "(32434489, 3)"
      ]
     },
     "execution_count": 34,
     "metadata": {},
     "output_type": "execute_result"
    }
   ],
   "source": [
    "df_order_prior.shape"
   ]
  },
  {
   "cell_type": "markdown",
   "id": "c8724be7",
   "metadata": {},
   "source": [
    "## 5. Cleaning Data - Ordered Products train"
   ]
  },
  {
   "cell_type": "markdown",
   "id": "0da97901-dbb5-42f7-a8c2-55161d3a7a27",
   "metadata": {},
   "source": [
    "Cleaning Data - Ordered Products\n",
    "\n",
    "Dataset is called order_products__train\n"
   ]
  },
  {
   "cell_type": "code",
   "execution_count": 35,
   "id": "28a558c7",
   "metadata": {},
   "outputs": [
    {
     "data": {
      "text/plain": [
       "(1384617, 4)"
      ]
     },
     "execution_count": 35,
     "metadata": {},
     "output_type": "execute_result"
    }
   ],
   "source": [
    "df_order_train.shape"
   ]
  },
  {
   "cell_type": "code",
   "execution_count": 36,
   "id": "d2c58991",
   "metadata": {},
   "outputs": [],
   "source": [
    "# removing unnecessary column. The column only indicates in which sequence the products were added in the basket.\n",
    "df_order_train = df_order_train.drop(columns = ['add_to_cart_order'])"
   ]
  },
  {
   "cell_type": "code",
   "execution_count": 37,
   "id": "0a52338c",
   "metadata": {},
   "outputs": [
    {
     "data": {
      "text/plain": [
       "order_id      0\n",
       "product_id    0\n",
       "reordered     0\n",
       "dtype: int64"
      ]
     },
     "execution_count": 37,
     "metadata": {},
     "output_type": "execute_result"
    }
   ],
   "source": [
    "# checking for empty cells\n",
    "df_order_train.isnull().sum()"
   ]
  },
  {
   "cell_type": "code",
   "execution_count": 38,
   "id": "5520e62f",
   "metadata": {},
   "outputs": [],
   "source": [
    "# checking if mixed data types column exist\n",
    "for col in df_order_train.columns.tolist():\n",
    "  weird = (df_order_train[[col]].map(type) != df_order_train[[col]].iloc[0].apply(type)).any(axis = 1)\n",
    "  if len (df_order_train[weird]) > 0:\n",
    "    print (col)"
   ]
  },
  {
   "cell_type": "code",
   "execution_count": 39,
   "id": "efa4562c",
   "metadata": {},
   "outputs": [
    {
     "data": {
      "text/html": [
       "<div>\n",
       "<style scoped>\n",
       "    .dataframe tbody tr th:only-of-type {\n",
       "        vertical-align: middle;\n",
       "    }\n",
       "\n",
       "    .dataframe tbody tr th {\n",
       "        vertical-align: top;\n",
       "    }\n",
       "\n",
       "    .dataframe thead th {\n",
       "        text-align: right;\n",
       "    }\n",
       "</style>\n",
       "<table border=\"1\" class=\"dataframe\">\n",
       "  <thead>\n",
       "    <tr style=\"text-align: right;\">\n",
       "      <th></th>\n",
       "      <th>order_id</th>\n",
       "      <th>product_id</th>\n",
       "      <th>reordered</th>\n",
       "    </tr>\n",
       "  </thead>\n",
       "  <tbody>\n",
       "  </tbody>\n",
       "</table>\n",
       "</div>"
      ],
      "text/plain": [
       "Empty DataFrame\n",
       "Columns: [order_id, product_id, reordered]\n",
       "Index: []"
      ]
     },
     "execution_count": 39,
     "metadata": {},
     "output_type": "execute_result"
    }
   ],
   "source": [
    "# Run a check for duplicate values.\n",
    "df_order_train[df_order_train.duplicated()]"
   ]
  },
  {
   "cell_type": "code",
   "execution_count": 40,
   "id": "05beea75",
   "metadata": {},
   "outputs": [],
   "source": [
    "# changing columns with IDs to string type\n",
    "df_order_train['product_id'] = df_order_train['product_id'].astype('str')\n",
    "df_order_train['order_id'] = df_order_train['order_id'].astype('str')"
   ]
  },
  {
   "cell_type": "code",
   "execution_count": 41,
   "id": "355b76e2",
   "metadata": {},
   "outputs": [
    {
     "data": {
      "text/plain": [
       "(1384617, 3)"
      ]
     },
     "execution_count": 41,
     "metadata": {},
     "output_type": "execute_result"
    }
   ],
   "source": [
    "df_order_train.shape"
   ]
  },
  {
   "cell_type": "markdown",
   "id": "c620fbc3",
   "metadata": {},
   "source": [
    "## 6. Saving Cleaned Data Sets"
   ]
  },
  {
   "cell_type": "code",
   "execution_count": 42,
   "id": "8d5f190c",
   "metadata": {},
   "outputs": [],
   "source": [
    "# export order data set\n",
    "df_orders.to_pickle(os.path.join(path, 'Data','Prepared Data', 'orders_cleaned.pkl'))"
   ]
  },
  {
   "cell_type": "code",
   "execution_count": 43,
   "id": "b09c996a",
   "metadata": {},
   "outputs": [],
   "source": [
    "# export product data set\n",
    "df_products.to_pickle(os.path.join(path, 'Data','Prepared Data', 'products_cleaned.pkl'))"
   ]
  },
  {
   "cell_type": "code",
   "execution_count": 44,
   "id": "1d919b59",
   "metadata": {},
   "outputs": [],
   "source": [
    "# export orders_products__prior data set\n",
    "df_order_prior.to_pickle(os.path.join(path, 'Data','Prepared Data', 'prior_baskets_cleaned.pkl'))"
   ]
  },
  {
   "cell_type": "code",
   "execution_count": 45,
   "id": "cdab95ca",
   "metadata": {},
   "outputs": [],
   "source": [
    "# export orders_products__train data set\n",
    "df_order_train.to_pickle(os.path.join(path, 'Data','Prepared Data', 'train_baskets_cleaned.pkl'))"
   ]
  }
 ],
 "metadata": {
  "kernelspec": {
   "display_name": "Python 3 (ipykernel)",
   "language": "python",
   "name": "python3"
  },
  "language_info": {
   "codemirror_mode": {
    "name": "ipython",
    "version": 3
   },
   "file_extension": ".py",
   "mimetype": "text/x-python",
   "name": "python",
   "nbconvert_exporter": "python",
   "pygments_lexer": "ipython3",
   "version": "3.11.5"
  }
 },
 "nbformat": 4,
 "nbformat_minor": 5
}
