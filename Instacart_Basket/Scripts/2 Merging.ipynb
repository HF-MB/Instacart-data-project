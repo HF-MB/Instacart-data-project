{
 "cells": [
  {
   "cell_type": "markdown",
   "id": "5cc2d804-ff9d-439b-aedc-38ee2903429a",
   "metadata": {},
   "source": [
    "# Merging Datasets"
   ]
  },
  {
   "cell_type": "markdown",
   "id": "454eb04a-6908-4cd4-91df-2f89a4582245",
   "metadata": {},
   "source": [
    "## Table of Content"
   ]
  },
  {
   "cell_type": "markdown",
   "id": "6e786690-e6c4-49ad-b0e4-512bc84dc957",
   "metadata": {},
   "source": [
    "#### 1. Importing Data"
   ]
  },
  {
   "cell_type": "markdown",
   "id": "02586a9a-03fa-40dc-a3a0-4c93a30445f1",
   "metadata": {},
   "source": [
    "#### 2. Checks on department and aisles dataset"
   ]
  },
  {
   "cell_type": "markdown",
   "id": "17bdb56e-3b98-4374-952f-cff2b18fdd13",
   "metadata": {},
   "source": [
    "#### 3. First Merging: Order with prior_basket"
   ]
  },
  {
   "cell_type": "markdown",
   "id": "53dac0b1-5709-46e1-bbbb-04e1c8fa18ea",
   "metadata": {},
   "source": [
    "#### 4. Second Merging: Order with train_basket"
   ]
  },
  {
   "cell_type": "markdown",
   "id": "eef4e18e-e4de-49e1-8336-28999f0cee61",
   "metadata": {},
   "source": [
    "#### 5. Merging first and second Merging"
   ]
  },
  {
   "cell_type": "markdown",
   "id": "d5359689-1a01-40cc-b142-a4bce5479327",
   "metadata": {},
   "source": [
    "#### 6. Third Merging: Products"
   ]
  },
  {
   "cell_type": "markdown",
   "id": "972260e2-548d-4c71-b7b4-1cb343cf8fec",
   "metadata": {},
   "source": [
    "#### 7. Fourth Merging: department information"
   ]
  },
  {
   "cell_type": "markdown",
   "id": "9d7f9d1a-9231-4f95-b13a-319143a33b60",
   "metadata": {},
   "source": [
    "#### 8. Fifth Merging: aisle information"
   ]
  },
  {
   "cell_type": "markdown",
   "id": "b9cd0680-8169-4c6c-aceb-4a4844900b7d",
   "metadata": {},
   "source": [
    "#### 9. Last cleaning"
   ]
  },
  {
   "cell_type": "markdown",
   "id": "f57e618a-e9b7-47d2-b0dd-a1510e37fdb7",
   "metadata": {},
   "source": [
    "#### 10. Saving Data"
   ]
  },
  {
   "cell_type": "code",
   "execution_count": 1,
   "id": "46346969",
   "metadata": {},
   "outputs": [],
   "source": [
    "# import libraries\n",
    "import pandas as pd\n",
    "import numpy as np\n",
    "import os"
   ]
  },
  {
   "cell_type": "code",
   "execution_count": 2,
   "id": "a4b5cc4e",
   "metadata": {},
   "outputs": [],
   "source": [
    "pd.options.display.max_columns = None"
   ]
  },
  {
   "cell_type": "markdown",
   "id": "c953e40b",
   "metadata": {},
   "source": [
    "## 1. Import Data"
   ]
  },
  {
   "cell_type": "code",
   "execution_count": 3,
   "id": "ce0f63b8",
   "metadata": {},
   "outputs": [],
   "source": [
    "path = r'/Users/henning/Portfolio/Instacart_Basket'"
   ]
  },
  {
   "cell_type": "code",
   "execution_count": 4,
   "id": "a837996f",
   "metadata": {},
   "outputs": [],
   "source": [
    "df_orders = pd.read_pickle(os.path.join(path, 'Data', 'Prepared Data', 'orders_cleaned.pkl'))"
   ]
  },
  {
   "cell_type": "code",
   "execution_count": 5,
   "id": "d23354f0",
   "metadata": {},
   "outputs": [],
   "source": [
    "df_prior_baskets = pd.read_pickle(os.path.join(path, 'Data', 'Prepared Data', 'prior_baskets_cleaned.pkl'))"
   ]
  },
  {
   "cell_type": "code",
   "execution_count": 6,
   "id": "b88c00b6",
   "metadata": {},
   "outputs": [],
   "source": [
    "df_train_baskets = pd.read_pickle(os.path.join(path, 'Data', 'Prepared Data', 'train_baskets_cleaned.pkl'))"
   ]
  },
  {
   "cell_type": "code",
   "execution_count": 7,
   "id": "bde49bc0",
   "metadata": {},
   "outputs": [],
   "source": [
    "df_products = pd.read_pickle(os.path.join(path, 'Data', 'Prepared Data', 'products_cleaned.pkl'))"
   ]
  },
  {
   "cell_type": "code",
   "execution_count": 8,
   "id": "5448b36b",
   "metadata": {},
   "outputs": [],
   "source": [
    "df_department = pd.read_csv(os.path.join(path, 'Data', 'Original Data', 'departments.csv'))"
   ]
  },
  {
   "cell_type": "code",
   "execution_count": 9,
   "id": "2d0a364f",
   "metadata": {},
   "outputs": [],
   "source": [
    "df_aisles = pd.read_csv(os.path.join(path, 'Data', 'Original Data', 'aisles.csv'))"
   ]
  },
  {
   "cell_type": "markdown",
   "id": "122e0a67",
   "metadata": {},
   "source": [
    "## 2. Small checks on department and aisles dataset"
   ]
  },
  {
   "cell_type": "code",
   "execution_count": 10,
   "id": "edc43280",
   "metadata": {},
   "outputs": [],
   "source": [
    "# changing IDs into string type\n",
    "df_department['department_id'] = df_department['department_id'].astype('str')\n",
    "df_aisles['aisle_id'] = df_aisles['aisle_id'].astype('str')"
   ]
  },
  {
   "cell_type": "markdown",
   "id": "5fc41522",
   "metadata": {},
   "source": [
    "## 3. First Merging: Order with prior_basket"
   ]
  },
  {
   "cell_type": "code",
   "execution_count": 11,
   "id": "a59c941c",
   "metadata": {},
   "outputs": [],
   "source": [
    "# filtering df_order to include only the previous orders.\n",
    "df_orders_prior = df_orders[df_orders['eval_set'] == 'prior']"
   ]
  },
  {
   "cell_type": "code",
   "execution_count": 12,
   "id": "db907913",
   "metadata": {},
   "outputs": [
    {
     "data": {
      "text/plain": [
       "(3214874, 7)"
      ]
     },
     "execution_count": 12,
     "metadata": {},
     "output_type": "execute_result"
    }
   ],
   "source": [
    "# deciding type of join by checking number of rows\n",
    "df_orders_prior.shape"
   ]
  },
  {
   "cell_type": "code",
   "execution_count": 13,
   "id": "7178919c",
   "metadata": {},
   "outputs": [
    {
     "data": {
      "text/plain": [
       "(32434489, 3)"
      ]
     },
     "execution_count": 13,
     "metadata": {},
     "output_type": "execute_result"
    }
   ],
   "source": [
    "df_prior_baskets.shape"
   ]
  },
  {
   "cell_type": "code",
   "execution_count": 14,
   "id": "6ce7a2dc",
   "metadata": {},
   "outputs": [],
   "source": [
    "# combining dataframes\n",
    "df_prior =  df_prior_baskets.merge(df_orders_prior, on = 'order_id', how='left', indicator = True)"
   ]
  },
  {
   "cell_type": "code",
   "execution_count": 15,
   "id": "c7e84ef3",
   "metadata": {},
   "outputs": [
    {
     "data": {
      "text/plain": [
       "_merge\n",
       "both          32434489\n",
       "left_only            0\n",
       "right_only           0\n",
       "Name: count, dtype: int64"
      ]
     },
     "execution_count": 15,
     "metadata": {},
     "output_type": "execute_result"
    }
   ],
   "source": [
    "df_prior['_merge'].value_counts()"
   ]
  },
  {
   "cell_type": "code",
   "execution_count": 16,
   "id": "224adbd4",
   "metadata": {},
   "outputs": [],
   "source": [
    "# dropping _merge column for the next combination\n",
    "df_prior = df_prior.drop(columns = ['_merge'])"
   ]
  },
  {
   "cell_type": "markdown",
   "id": "fbda4aad",
   "metadata": {},
   "source": [
    "## 4. Second Merging: Order with the train_basket"
   ]
  },
  {
   "cell_type": "code",
   "execution_count": 17,
   "id": "198a4445",
   "metadata": {},
   "outputs": [],
   "source": [
    "# filtering df_order to include only the recent orders.\n",
    "df_orders_recent = df_orders[df_orders['eval_set'] == 'train']"
   ]
  },
  {
   "cell_type": "code",
   "execution_count": 18,
   "id": "63369422",
   "metadata": {},
   "outputs": [
    {
     "data": {
      "text/plain": [
       "(131209, 7)"
      ]
     },
     "execution_count": 18,
     "metadata": {},
     "output_type": "execute_result"
    }
   ],
   "source": [
    "# deciding type of join by checking number of rows\n",
    "df_orders_recent.shape"
   ]
  },
  {
   "cell_type": "code",
   "execution_count": 19,
   "id": "8ca01ab1",
   "metadata": {},
   "outputs": [
    {
     "data": {
      "text/plain": [
       "(1384617, 3)"
      ]
     },
     "execution_count": 19,
     "metadata": {},
     "output_type": "execute_result"
    }
   ],
   "source": [
    "df_train_baskets.shape"
   ]
  },
  {
   "cell_type": "code",
   "execution_count": 20,
   "id": "581abf03",
   "metadata": {},
   "outputs": [],
   "source": [
    "# combining dataframes\n",
    "df_train =  df_train_baskets.merge(df_orders_recent, on = 'order_id', how='left', indicator = True)"
   ]
  },
  {
   "cell_type": "code",
   "execution_count": 21,
   "id": "3c8bc5d3",
   "metadata": {},
   "outputs": [
    {
     "data": {
      "text/plain": [
       "_merge\n",
       "both          1384617\n",
       "left_only           0\n",
       "right_only          0\n",
       "Name: count, dtype: int64"
      ]
     },
     "execution_count": 21,
     "metadata": {},
     "output_type": "execute_result"
    }
   ],
   "source": [
    "df_train['_merge'].value_counts()"
   ]
  },
  {
   "cell_type": "code",
   "execution_count": 22,
   "id": "fbfc3386",
   "metadata": {},
   "outputs": [],
   "source": [
    "# dropping _merge column for the next combination\n",
    "df_train = df_train.drop(columns = ['_merge'])"
   ]
  },
  {
   "cell_type": "markdown",
   "id": "04d58160",
   "metadata": {},
   "source": [
    "## 5. Merging df_prior and df_recent to df_1"
   ]
  },
  {
   "cell_type": "code",
   "execution_count": 23,
   "id": "ba71efb9",
   "metadata": {},
   "outputs": [],
   "source": [
    "# Concatenating the Data\n",
    "frames = [df_prior, df_train]\n",
    "df_1 = pd.concat(frames, axis = 0)"
   ]
  },
  {
   "cell_type": "code",
   "execution_count": 24,
   "id": "dedef798",
   "metadata": {},
   "outputs": [
    {
     "data": {
      "text/html": [
       "<div>\n",
       "<style scoped>\n",
       "    .dataframe tbody tr th:only-of-type {\n",
       "        vertical-align: middle;\n",
       "    }\n",
       "\n",
       "    .dataframe tbody tr th {\n",
       "        vertical-align: top;\n",
       "    }\n",
       "\n",
       "    .dataframe thead th {\n",
       "        text-align: right;\n",
       "    }\n",
       "</style>\n",
       "<table border=\"1\" class=\"dataframe\">\n",
       "  <thead>\n",
       "    <tr style=\"text-align: right;\">\n",
       "      <th></th>\n",
       "      <th>order_id</th>\n",
       "      <th>product_id</th>\n",
       "      <th>reordered</th>\n",
       "      <th>user_id</th>\n",
       "      <th>eval_set</th>\n",
       "      <th>order_number</th>\n",
       "      <th>order_weekday</th>\n",
       "      <th>order_hour_of_day</th>\n",
       "      <th>days_since_prior_order</th>\n",
       "    </tr>\n",
       "  </thead>\n",
       "  <tbody>\n",
       "    <tr>\n",
       "      <th>0</th>\n",
       "      <td>2</td>\n",
       "      <td>33120</td>\n",
       "      <td>1</td>\n",
       "      <td>202279</td>\n",
       "      <td>prior</td>\n",
       "      <td>3</td>\n",
       "      <td>5</td>\n",
       "      <td>9</td>\n",
       "      <td>8.0</td>\n",
       "    </tr>\n",
       "    <tr>\n",
       "      <th>1</th>\n",
       "      <td>2</td>\n",
       "      <td>28985</td>\n",
       "      <td>1</td>\n",
       "      <td>202279</td>\n",
       "      <td>prior</td>\n",
       "      <td>3</td>\n",
       "      <td>5</td>\n",
       "      <td>9</td>\n",
       "      <td>8.0</td>\n",
       "    </tr>\n",
       "    <tr>\n",
       "      <th>2</th>\n",
       "      <td>2</td>\n",
       "      <td>9327</td>\n",
       "      <td>0</td>\n",
       "      <td>202279</td>\n",
       "      <td>prior</td>\n",
       "      <td>3</td>\n",
       "      <td>5</td>\n",
       "      <td>9</td>\n",
       "      <td>8.0</td>\n",
       "    </tr>\n",
       "    <tr>\n",
       "      <th>3</th>\n",
       "      <td>2</td>\n",
       "      <td>45918</td>\n",
       "      <td>1</td>\n",
       "      <td>202279</td>\n",
       "      <td>prior</td>\n",
       "      <td>3</td>\n",
       "      <td>5</td>\n",
       "      <td>9</td>\n",
       "      <td>8.0</td>\n",
       "    </tr>\n",
       "    <tr>\n",
       "      <th>4</th>\n",
       "      <td>2</td>\n",
       "      <td>30035</td>\n",
       "      <td>0</td>\n",
       "      <td>202279</td>\n",
       "      <td>prior</td>\n",
       "      <td>3</td>\n",
       "      <td>5</td>\n",
       "      <td>9</td>\n",
       "      <td>8.0</td>\n",
       "    </tr>\n",
       "    <tr>\n",
       "      <th>...</th>\n",
       "      <td>...</td>\n",
       "      <td>...</td>\n",
       "      <td>...</td>\n",
       "      <td>...</td>\n",
       "      <td>...</td>\n",
       "      <td>...</td>\n",
       "      <td>...</td>\n",
       "      <td>...</td>\n",
       "      <td>...</td>\n",
       "    </tr>\n",
       "    <tr>\n",
       "      <th>1384612</th>\n",
       "      <td>3421063</td>\n",
       "      <td>14233</td>\n",
       "      <td>1</td>\n",
       "      <td>169679</td>\n",
       "      <td>train</td>\n",
       "      <td>30</td>\n",
       "      <td>0</td>\n",
       "      <td>10</td>\n",
       "      <td>4.0</td>\n",
       "    </tr>\n",
       "    <tr>\n",
       "      <th>1384613</th>\n",
       "      <td>3421063</td>\n",
       "      <td>35548</td>\n",
       "      <td>1</td>\n",
       "      <td>169679</td>\n",
       "      <td>train</td>\n",
       "      <td>30</td>\n",
       "      <td>0</td>\n",
       "      <td>10</td>\n",
       "      <td>4.0</td>\n",
       "    </tr>\n",
       "    <tr>\n",
       "      <th>1384614</th>\n",
       "      <td>3421070</td>\n",
       "      <td>35951</td>\n",
       "      <td>1</td>\n",
       "      <td>139822</td>\n",
       "      <td>train</td>\n",
       "      <td>15</td>\n",
       "      <td>6</td>\n",
       "      <td>10</td>\n",
       "      <td>8.0</td>\n",
       "    </tr>\n",
       "    <tr>\n",
       "      <th>1384615</th>\n",
       "      <td>3421070</td>\n",
       "      <td>16953</td>\n",
       "      <td>1</td>\n",
       "      <td>139822</td>\n",
       "      <td>train</td>\n",
       "      <td>15</td>\n",
       "      <td>6</td>\n",
       "      <td>10</td>\n",
       "      <td>8.0</td>\n",
       "    </tr>\n",
       "    <tr>\n",
       "      <th>1384616</th>\n",
       "      <td>3421070</td>\n",
       "      <td>4724</td>\n",
       "      <td>1</td>\n",
       "      <td>139822</td>\n",
       "      <td>train</td>\n",
       "      <td>15</td>\n",
       "      <td>6</td>\n",
       "      <td>10</td>\n",
       "      <td>8.0</td>\n",
       "    </tr>\n",
       "  </tbody>\n",
       "</table>\n",
       "<p>33819106 rows × 9 columns</p>\n",
       "</div>"
      ],
      "text/plain": [
       "        order_id product_id  reordered user_id eval_set  order_number  \\\n",
       "0              2      33120          1  202279    prior             3   \n",
       "1              2      28985          1  202279    prior             3   \n",
       "2              2       9327          0  202279    prior             3   \n",
       "3              2      45918          1  202279    prior             3   \n",
       "4              2      30035          0  202279    prior             3   \n",
       "...          ...        ...        ...     ...      ...           ...   \n",
       "1384612  3421063      14233          1  169679    train            30   \n",
       "1384613  3421063      35548          1  169679    train            30   \n",
       "1384614  3421070      35951          1  139822    train            15   \n",
       "1384615  3421070      16953          1  139822    train            15   \n",
       "1384616  3421070       4724          1  139822    train            15   \n",
       "\n",
       "         order_weekday  order_hour_of_day  days_since_prior_order  \n",
       "0                    5                  9                     8.0  \n",
       "1                    5                  9                     8.0  \n",
       "2                    5                  9                     8.0  \n",
       "3                    5                  9                     8.0  \n",
       "4                    5                  9                     8.0  \n",
       "...                ...                ...                     ...  \n",
       "1384612              0                 10                     4.0  \n",
       "1384613              0                 10                     4.0  \n",
       "1384614              6                 10                     8.0  \n",
       "1384615              6                 10                     8.0  \n",
       "1384616              6                 10                     8.0  \n",
       "\n",
       "[33819106 rows x 9 columns]"
      ]
     },
     "execution_count": 24,
     "metadata": {},
     "output_type": "execute_result"
    }
   ],
   "source": [
    "df_1"
   ]
  },
  {
   "cell_type": "markdown",
   "id": "63c1b2be",
   "metadata": {},
   "source": [
    "## 6. Third Merging: Products"
   ]
  },
  {
   "cell_type": "code",
   "execution_count": 25,
   "id": "912149ed",
   "metadata": {},
   "outputs": [
    {
     "data": {
      "text/plain": [
       "(33819106, 9)"
      ]
     },
     "execution_count": 25,
     "metadata": {},
     "output_type": "execute_result"
    }
   ],
   "source": [
    "# deciding type of join by checking number of rows\n",
    "df_1.shape"
   ]
  },
  {
   "cell_type": "code",
   "execution_count": 26,
   "id": "69eafcd9",
   "metadata": {},
   "outputs": [
    {
     "data": {
      "text/plain": [
       "(49688, 4)"
      ]
     },
     "execution_count": 26,
     "metadata": {},
     "output_type": "execute_result"
    }
   ],
   "source": [
    "df_products.shape"
   ]
  },
  {
   "cell_type": "code",
   "execution_count": 27,
   "id": "3385f6b9",
   "metadata": {},
   "outputs": [],
   "source": [
    "# combining dataframes with left join to include all orders, but to exclude unordered products.\n",
    "df_2 =  df_1.merge(df_products, on = 'product_id', how='left', indicator = True)"
   ]
  },
  {
   "cell_type": "code",
   "execution_count": 28,
   "id": "8ef6629d",
   "metadata": {},
   "outputs": [
    {
     "data": {
      "text/plain": [
       "_merge\n",
       "both          33819106\n",
       "left_only            0\n",
       "right_only           0\n",
       "Name: count, dtype: int64"
      ]
     },
     "execution_count": 28,
     "metadata": {},
     "output_type": "execute_result"
    }
   ],
   "source": [
    "df_2['_merge'].value_counts()"
   ]
  },
  {
   "cell_type": "code",
   "execution_count": 29,
   "id": "725d8855",
   "metadata": {},
   "outputs": [],
   "source": [
    "# dropping _merge column for the next combination\n",
    "df_2 = df_2.drop(columns = ['_merge'])"
   ]
  },
  {
   "cell_type": "markdown",
   "id": "65d58f44",
   "metadata": {},
   "source": [
    "## 7. Fourth Merging: department information"
   ]
  },
  {
   "cell_type": "code",
   "execution_count": 30,
   "id": "b60eb542",
   "metadata": {},
   "outputs": [
    {
     "data": {
      "text/plain": [
       "(33819106, 12)"
      ]
     },
     "execution_count": 30,
     "metadata": {},
     "output_type": "execute_result"
    }
   ],
   "source": [
    "# deciding type of join by checking number of rows\n",
    "df_2.shape"
   ]
  },
  {
   "cell_type": "code",
   "execution_count": 31,
   "id": "f81260f2",
   "metadata": {},
   "outputs": [
    {
     "data": {
      "text/plain": [
       "(21, 2)"
      ]
     },
     "execution_count": 31,
     "metadata": {},
     "output_type": "execute_result"
    }
   ],
   "source": [
    "df_department.shape"
   ]
  },
  {
   "cell_type": "code",
   "execution_count": 32,
   "id": "560d4053",
   "metadata": {},
   "outputs": [],
   "source": [
    "# combining dataframes\n",
    "df_3 =  df_2.merge(df_department, on = 'department_id', how='left', indicator = True)"
   ]
  },
  {
   "cell_type": "code",
   "execution_count": 33,
   "id": "ff9001c0",
   "metadata": {},
   "outputs": [
    {
     "data": {
      "text/plain": [
       "_merge\n",
       "both          33819106\n",
       "left_only            0\n",
       "right_only           0\n",
       "Name: count, dtype: int64"
      ]
     },
     "execution_count": 33,
     "metadata": {},
     "output_type": "execute_result"
    }
   ],
   "source": [
    "df_3['_merge'].value_counts()"
   ]
  },
  {
   "cell_type": "code",
   "execution_count": 34,
   "id": "46d0cbb6",
   "metadata": {},
   "outputs": [],
   "source": [
    "# dropping _merge column for the next combination\n",
    "df_3 = df_3.drop(columns = ['_merge'])"
   ]
  },
  {
   "cell_type": "markdown",
   "id": "2fd29efe",
   "metadata": {},
   "source": [
    "## 8. Fifth Merging: aisles information"
   ]
  },
  {
   "cell_type": "code",
   "execution_count": 35,
   "id": "156fd273",
   "metadata": {},
   "outputs": [],
   "source": [
    "# combining dataframes\n",
    "df_instacart =  df_3.merge(df_aisles, on = 'aisle_id', how='left', indicator = True)"
   ]
  },
  {
   "cell_type": "code",
   "execution_count": 36,
   "id": "f5ec95a5",
   "metadata": {},
   "outputs": [
    {
     "data": {
      "text/plain": [
       "_merge\n",
       "both          33819106\n",
       "left_only            0\n",
       "right_only           0\n",
       "Name: count, dtype: int64"
      ]
     },
     "execution_count": 36,
     "metadata": {},
     "output_type": "execute_result"
    }
   ],
   "source": [
    "df_instacart['_merge'].value_counts()"
   ]
  },
  {
   "cell_type": "code",
   "execution_count": 37,
   "id": "a143123c",
   "metadata": {},
   "outputs": [],
   "source": [
    "# dropping _merge column for the next combination\n",
    "df_instacart = df_instacart.drop(columns = ['_merge'])"
   ]
  },
  {
   "cell_type": "markdown",
   "id": "2de078de",
   "metadata": {},
   "source": [
    "## 9. Removing ID columns"
   ]
  },
  {
   "cell_type": "code",
   "execution_count": 38,
   "id": "94d40caa",
   "metadata": {},
   "outputs": [],
   "source": [
    "# because ID columns are only necessary for combining the data sets,\n",
    "# they can now be removed as we don't need them for the upcoming analysis.\n",
    "# Only the User_id stays, as it is the only way to identify a specific customer.\n",
    "df_instacart = df_instacart.drop(columns = ['order_id', 'product_id', 'aisle_id', 'department_id'])"
   ]
  },
  {
   "cell_type": "code",
   "execution_count": 39,
   "id": "f7374650",
   "metadata": {},
   "outputs": [],
   "source": [
    "# renaming user_id column for better understanding and readability\n",
    "df_instacart.rename(columns = {'user_id' : 'customer'}, inplace = True)"
   ]
  },
  {
   "cell_type": "code",
   "execution_count": 40,
   "id": "d6a5e16f",
   "metadata": {},
   "outputs": [
    {
     "data": {
      "text/html": [
       "<div>\n",
       "<style scoped>\n",
       "    .dataframe tbody tr th:only-of-type {\n",
       "        vertical-align: middle;\n",
       "    }\n",
       "\n",
       "    .dataframe tbody tr th {\n",
       "        vertical-align: top;\n",
       "    }\n",
       "\n",
       "    .dataframe thead th {\n",
       "        text-align: right;\n",
       "    }\n",
       "</style>\n",
       "<table border=\"1\" class=\"dataframe\">\n",
       "  <thead>\n",
       "    <tr style=\"text-align: right;\">\n",
       "      <th></th>\n",
       "      <th>reordered</th>\n",
       "      <th>customer</th>\n",
       "      <th>eval_set</th>\n",
       "      <th>order_number</th>\n",
       "      <th>order_weekday</th>\n",
       "      <th>order_hour_of_day</th>\n",
       "      <th>days_since_prior_order</th>\n",
       "      <th>product_name</th>\n",
       "      <th>department</th>\n",
       "      <th>aisle</th>\n",
       "    </tr>\n",
       "  </thead>\n",
       "  <tbody>\n",
       "    <tr>\n",
       "      <th>22946831</th>\n",
       "      <td>0</td>\n",
       "      <td>182183</td>\n",
       "      <td>prior</td>\n",
       "      <td>10</td>\n",
       "      <td>0</td>\n",
       "      <td>16</td>\n",
       "      <td>7.0</td>\n",
       "      <td>Organic Whole Wheat Penne Rigate</td>\n",
       "      <td>dry goods pasta</td>\n",
       "      <td>dry pasta</td>\n",
       "    </tr>\n",
       "    <tr>\n",
       "      <th>5801763</th>\n",
       "      <td>0</td>\n",
       "      <td>190182</td>\n",
       "      <td>prior</td>\n",
       "      <td>4</td>\n",
       "      <td>1</td>\n",
       "      <td>12</td>\n",
       "      <td>10.0</td>\n",
       "      <td>Sweet Red Grape Tomatoes</td>\n",
       "      <td>produce</td>\n",
       "      <td>fresh vegetables</td>\n",
       "    </tr>\n",
       "    <tr>\n",
       "      <th>29391343</th>\n",
       "      <td>1</td>\n",
       "      <td>58919</td>\n",
       "      <td>prior</td>\n",
       "      <td>31</td>\n",
       "      <td>5</td>\n",
       "      <td>8</td>\n",
       "      <td>6.0</td>\n",
       "      <td>Organic Black Beans</td>\n",
       "      <td>canned goods</td>\n",
       "      <td>canned meals beans</td>\n",
       "    </tr>\n",
       "  </tbody>\n",
       "</table>\n",
       "</div>"
      ],
      "text/plain": [
       "          reordered customer eval_set  order_number  order_weekday  \\\n",
       "22946831          0   182183    prior            10              0   \n",
       "5801763           0   190182    prior             4              1   \n",
       "29391343          1    58919    prior            31              5   \n",
       "\n",
       "          order_hour_of_day  days_since_prior_order  \\\n",
       "22946831                 16                     7.0   \n",
       "5801763                  12                    10.0   \n",
       "29391343                  8                     6.0   \n",
       "\n",
       "                              product_name       department  \\\n",
       "22946831  Organic Whole Wheat Penne Rigate  dry goods pasta   \n",
       "5801763           Sweet Red Grape Tomatoes          produce   \n",
       "29391343               Organic Black Beans     canned goods   \n",
       "\n",
       "                       aisle  \n",
       "22946831           dry pasta  \n",
       "5801763     fresh vegetables  \n",
       "29391343  canned meals beans  "
      ]
     },
     "execution_count": 40,
     "metadata": {},
     "output_type": "execute_result"
    }
   ],
   "source": [
    "# final check on data\n",
    "df_instacart.sample(3)"
   ]
  },
  {
   "cell_type": "markdown",
   "id": "2b1d32ff",
   "metadata": {},
   "source": [
    "## 10. Exporting merged Data Set"
   ]
  },
  {
   "cell_type": "code",
   "execution_count": 41,
   "id": "f625ccf1",
   "metadata": {},
   "outputs": [],
   "source": [
    "df_instacart.to_pickle(os.path.join(path, 'Data','Prepared Data', 'instacart.pkl'))"
   ]
  }
 ],
 "metadata": {
  "kernelspec": {
   "display_name": "Python 3 (ipykernel)",
   "language": "python",
   "name": "python3"
  },
  "language_info": {
   "codemirror_mode": {
    "name": "ipython",
    "version": 3
   },
   "file_extension": ".py",
   "mimetype": "text/x-python",
   "name": "python",
   "nbconvert_exporter": "python",
   "pygments_lexer": "ipython3",
   "version": "3.11.5"
  }
 },
 "nbformat": 4,
 "nbformat_minor": 5
}
