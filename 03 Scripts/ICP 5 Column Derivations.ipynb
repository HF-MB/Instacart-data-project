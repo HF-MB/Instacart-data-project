{
 "cells": [
  {
   "cell_type": "code",
   "execution_count": 1,
   "id": "1d393d06",
   "metadata": {},
   "outputs": [],
   "source": [
    "# Import Libraries\n",
    "import pandas as pd\n",
    "import numpy as np\n",
    "import os"
   ]
  },
  {
   "cell_type": "code",
   "execution_count": 2,
   "id": "2ab064c8",
   "metadata": {},
   "outputs": [],
   "source": [
    "pd.options.display.max_columns = None"
   ]
  },
  {
   "cell_type": "markdown",
   "id": "2bbabcdf",
   "metadata": {},
   "source": [
    "### Import Data"
   ]
  },
  {
   "cell_type": "code",
   "execution_count": 3,
   "id": "cf882023",
   "metadata": {},
   "outputs": [],
   "source": [
    "path = r'/Users/henning/Documents/Data Analytics Portfolio/Instacart Project - ICP'"
   ]
  },
  {
   "cell_type": "code",
   "execution_count": 4,
   "id": "23aad48c",
   "metadata": {},
   "outputs": [],
   "source": [
    "df_icp = pd.read_pickle(os.path.join(path, '02 Data', 'Prepared Data', 'merged_data_set.pkl'))"
   ]
  },
  {
   "cell_type": "markdown",
   "id": "6cbb0d28",
   "metadata": {},
   "source": [
    "### Creating price categories for the products"
   ]
  },
  {
   "cell_type": "code",
   "execution_count": 5,
   "id": "025868f2",
   "metadata": {},
   "outputs": [
    {
     "name": "stderr",
     "output_type": "stream",
     "text": [
      "/var/folders/5_/pv74frmn4fx0_vntxlc18yhm0000gn/T/ipykernel_85385/366770025.py:2: FutureWarning: Setting an item of incompatible dtype is deprecated and will raise in a future error of pandas. Value 'High-range product' has dtype incompatible with float64, please explicitly cast to a compatible dtype first.\n",
      "  df_icp.loc[df_icp['prices'] > 15, 'price_range'] = 'High-range product'\n"
     ]
    }
   ],
   "source": [
    "# Set three prices ranges with the log-function\n",
    "df_icp.loc[df_icp['prices'] > 15, 'price_range'] = 'High-range product'\n",
    "df_icp.loc[(df_icp['prices'] <= 15) & (df_icp['prices'] > 5), 'price_range'] = 'Mid-range product' \n",
    "df_icp.loc[df_icp['prices'] <= 5, 'price_range'] = 'Low-range product'"
   ]
  },
  {
   "cell_type": "code",
   "execution_count": 6,
   "id": "37872528",
   "metadata": {},
   "outputs": [
    {
     "data": {
      "text/plain": [
       "price_range\n",
       "Mid-range product     22825196\n",
       "Low-range product     10557208\n",
       "High-range product      429816\n",
       "NaN                       7488\n",
       "Name: count, dtype: int64"
      ]
     },
     "execution_count": 6,
     "metadata": {},
     "output_type": "execute_result"
    }
   ],
   "source": [
    "# checking \n",
    "df_icp['price_range'].value_counts(dropna = False)"
   ]
  },
  {
   "cell_type": "code",
   "execution_count": 7,
   "id": "dc623610",
   "metadata": {},
   "outputs": [
    {
     "data": {
      "text/html": [
       "<div>\n",
       "<style scoped>\n",
       "    .dataframe tbody tr th:only-of-type {\n",
       "        vertical-align: middle;\n",
       "    }\n",
       "\n",
       "    .dataframe tbody tr th {\n",
       "        vertical-align: top;\n",
       "    }\n",
       "\n",
       "    .dataframe thead th {\n",
       "        text-align: right;\n",
       "    }\n",
       "</style>\n",
       "<table border=\"1\" class=\"dataframe\">\n",
       "  <thead>\n",
       "    <tr style=\"text-align: right;\">\n",
       "      <th></th>\n",
       "      <th>reordered</th>\n",
       "      <th>customer</th>\n",
       "      <th>order_number</th>\n",
       "      <th>order_weekday</th>\n",
       "      <th>order_hour_of_day</th>\n",
       "      <th>days_since_last_order</th>\n",
       "      <th>product_name</th>\n",
       "      <th>prices</th>\n",
       "      <th>department</th>\n",
       "      <th>aisle</th>\n",
       "      <th>gender</th>\n",
       "      <th>state</th>\n",
       "      <th>age</th>\n",
       "      <th>date_joined</th>\n",
       "      <th>civil_status</th>\n",
       "      <th>income</th>\n",
       "      <th>price_range</th>\n",
       "    </tr>\n",
       "  </thead>\n",
       "  <tbody>\n",
       "    <tr>\n",
       "      <th>11246061</th>\n",
       "      <td>0</td>\n",
       "      <td>166288</td>\n",
       "      <td>11</td>\n",
       "      <td>1</td>\n",
       "      <td>11</td>\n",
       "      <td>18.0</td>\n",
       "      <td>Milano Mint Cookies</td>\n",
       "      <td>2.5</td>\n",
       "      <td>snacks</td>\n",
       "      <td>cookies cakes</td>\n",
       "      <td>Male</td>\n",
       "      <td>North Carolina</td>\n",
       "      <td>35</td>\n",
       "      <td>10/30/2017</td>\n",
       "      <td>married</td>\n",
       "      <td>89691</td>\n",
       "      <td>Low-range product</td>\n",
       "    </tr>\n",
       "    <tr>\n",
       "      <th>7254288</th>\n",
       "      <td>1</td>\n",
       "      <td>21982</td>\n",
       "      <td>6</td>\n",
       "      <td>4</td>\n",
       "      <td>11</td>\n",
       "      <td>30.0</td>\n",
       "      <td>Organic White Chocolate Peanut Butter Cups</td>\n",
       "      <td>5.0</td>\n",
       "      <td>snacks</td>\n",
       "      <td>candy chocolate</td>\n",
       "      <td>Male</td>\n",
       "      <td>Alabama</td>\n",
       "      <td>70</td>\n",
       "      <td>3/1/2017</td>\n",
       "      <td>divorced/widowed</td>\n",
       "      <td>80806</td>\n",
       "      <td>Low-range product</td>\n",
       "    </tr>\n",
       "    <tr>\n",
       "      <th>7863051</th>\n",
       "      <td>1</td>\n",
       "      <td>67043</td>\n",
       "      <td>22</td>\n",
       "      <td>4</td>\n",
       "      <td>11</td>\n",
       "      <td>4.0</td>\n",
       "      <td>Organic Mini Homestyle Waffles</td>\n",
       "      <td>2.3</td>\n",
       "      <td>frozen</td>\n",
       "      <td>frozen breakfast</td>\n",
       "      <td>Male</td>\n",
       "      <td>North Dakota</td>\n",
       "      <td>56</td>\n",
       "      <td>8/5/2018</td>\n",
       "      <td>married</td>\n",
       "      <td>55454</td>\n",
       "      <td>Low-range product</td>\n",
       "    </tr>\n",
       "  </tbody>\n",
       "</table>\n",
       "</div>"
      ],
      "text/plain": [
       "          reordered customer  order_number  order_weekday  order_hour_of_day  \\\n",
       "11246061          0   166288            11              1                 11   \n",
       "7254288           1    21982             6              4                 11   \n",
       "7863051           1    67043            22              4                 11   \n",
       "\n",
       "          days_since_last_order                                product_name  \\\n",
       "11246061                   18.0                         Milano Mint Cookies   \n",
       "7254288                    30.0  Organic White Chocolate Peanut Butter Cups   \n",
       "7863051                     4.0              Organic Mini Homestyle Waffles   \n",
       "\n",
       "          prices department             aisle gender           state  age  \\\n",
       "11246061     2.5     snacks     cookies cakes   Male  North Carolina   35   \n",
       "7254288      5.0     snacks   candy chocolate   Male         Alabama   70   \n",
       "7863051      2.3     frozen  frozen breakfast   Male    North Dakota   56   \n",
       "\n",
       "         date_joined      civil_status  income        price_range  \n",
       "11246061  10/30/2017           married   89691  Low-range product  \n",
       "7254288     3/1/2017  divorced/widowed   80806  Low-range product  \n",
       "7863051     8/5/2018           married   55454  Low-range product  "
      ]
     },
     "execution_count": 7,
     "metadata": {},
     "output_type": "execute_result"
    }
   ],
   "source": [
    "df_icp.sample(3)"
   ]
  },
  {
   "cell_type": "markdown",
   "id": "498553f1",
   "metadata": {},
   "source": [
    "### Creating Column with the number of orders a customer has placed so far"
   ]
  },
  {
   "cell_type": "code",
   "execution_count": 8,
   "id": "2a5cbf31",
   "metadata": {},
   "outputs": [
    {
     "name": "stderr",
     "output_type": "stream",
     "text": [
      "/var/folders/5_/pv74frmn4fx0_vntxlc18yhm0000gn/T/ipykernel_85385/1867003430.py:1: FutureWarning: The provided callable <function amax at 0x111b25620> is currently using SeriesGroupBy.max. In a future version of pandas, the provided callable will be used directly. To keep current behavior pass the string \"max\" instead.\n",
      "  df_icp['max_order'] = df_icp.groupby(['customer'])['order_number'].transform(np.max)\n"
     ]
    }
   ],
   "source": [
    "df_icp['max_order'] = df_icp.groupby(['customer'])['order_number'].transform(np.max)"
   ]
  },
  {
   "cell_type": "code",
   "execution_count": 9,
   "id": "0c5c5d10",
   "metadata": {},
   "outputs": [
    {
     "data": {
      "text/html": [
       "<div>\n",
       "<style scoped>\n",
       "    .dataframe tbody tr th:only-of-type {\n",
       "        vertical-align: middle;\n",
       "    }\n",
       "\n",
       "    .dataframe tbody tr th {\n",
       "        vertical-align: top;\n",
       "    }\n",
       "\n",
       "    .dataframe thead th {\n",
       "        text-align: right;\n",
       "    }\n",
       "</style>\n",
       "<table border=\"1\" class=\"dataframe\">\n",
       "  <thead>\n",
       "    <tr style=\"text-align: right;\">\n",
       "      <th></th>\n",
       "      <th>reordered</th>\n",
       "      <th>customer</th>\n",
       "      <th>order_number</th>\n",
       "      <th>order_weekday</th>\n",
       "      <th>order_hour_of_day</th>\n",
       "      <th>days_since_last_order</th>\n",
       "      <th>product_name</th>\n",
       "      <th>prices</th>\n",
       "      <th>department</th>\n",
       "      <th>aisle</th>\n",
       "      <th>gender</th>\n",
       "      <th>state</th>\n",
       "      <th>age</th>\n",
       "      <th>date_joined</th>\n",
       "      <th>civil_status</th>\n",
       "      <th>income</th>\n",
       "      <th>price_range</th>\n",
       "      <th>max_order</th>\n",
       "    </tr>\n",
       "  </thead>\n",
       "  <tbody>\n",
       "    <tr>\n",
       "      <th>8435497</th>\n",
       "      <td>0</td>\n",
       "      <td>43351</td>\n",
       "      <td>7</td>\n",
       "      <td>3</td>\n",
       "      <td>8</td>\n",
       "      <td>5.0</td>\n",
       "      <td>Red Grapefruit</td>\n",
       "      <td>2.4</td>\n",
       "      <td>produce</td>\n",
       "      <td>fresh fruits</td>\n",
       "      <td>Female</td>\n",
       "      <td>Alabama</td>\n",
       "      <td>63</td>\n",
       "      <td>2/6/2019</td>\n",
       "      <td>married</td>\n",
       "      <td>161095</td>\n",
       "      <td>Low-range product</td>\n",
       "      <td>94</td>\n",
       "    </tr>\n",
       "    <tr>\n",
       "      <th>13376691</th>\n",
       "      <td>1</td>\n",
       "      <td>125186</td>\n",
       "      <td>18</td>\n",
       "      <td>6</td>\n",
       "      <td>14</td>\n",
       "      <td>2.0</td>\n",
       "      <td>Steak Sauce</td>\n",
       "      <td>13.6</td>\n",
       "      <td>pantry</td>\n",
       "      <td>marinades meat preparation</td>\n",
       "      <td>Female</td>\n",
       "      <td>Oregon</td>\n",
       "      <td>51</td>\n",
       "      <td>1/9/2020</td>\n",
       "      <td>married</td>\n",
       "      <td>51402</td>\n",
       "      <td>Mid-range product</td>\n",
       "      <td>18</td>\n",
       "    </tr>\n",
       "    <tr>\n",
       "      <th>15694293</th>\n",
       "      <td>1</td>\n",
       "      <td>107238</td>\n",
       "      <td>7</td>\n",
       "      <td>2</td>\n",
       "      <td>12</td>\n",
       "      <td>27.0</td>\n",
       "      <td>Club Soda</td>\n",
       "      <td>8.5</td>\n",
       "      <td>beverages</td>\n",
       "      <td>soft drinks</td>\n",
       "      <td>Male</td>\n",
       "      <td>Minnesota</td>\n",
       "      <td>64</td>\n",
       "      <td>6/11/2019</td>\n",
       "      <td>divorced/widowed</td>\n",
       "      <td>77841</td>\n",
       "      <td>Mid-range product</td>\n",
       "      <td>13</td>\n",
       "    </tr>\n",
       "  </tbody>\n",
       "</table>\n",
       "</div>"
      ],
      "text/plain": [
       "          reordered customer  order_number  order_weekday  order_hour_of_day  \\\n",
       "8435497           0    43351             7              3                  8   \n",
       "13376691          1   125186            18              6                 14   \n",
       "15694293          1   107238             7              2                 12   \n",
       "\n",
       "          days_since_last_order    product_name  prices department  \\\n",
       "8435497                     5.0  Red Grapefruit     2.4    produce   \n",
       "13376691                    2.0     Steak Sauce    13.6     pantry   \n",
       "15694293                   27.0       Club Soda     8.5  beverages   \n",
       "\n",
       "                               aisle  gender      state  age date_joined  \\\n",
       "8435497                 fresh fruits  Female    Alabama   63    2/6/2019   \n",
       "13376691  marinades meat preparation  Female     Oregon   51    1/9/2020   \n",
       "15694293                 soft drinks    Male  Minnesota   64   6/11/2019   \n",
       "\n",
       "              civil_status  income        price_range  max_order  \n",
       "8435497            married  161095  Low-range product         94  \n",
       "13376691           married   51402  Mid-range product         18  \n",
       "15694293  divorced/widowed   77841  Mid-range product         13  "
      ]
     },
     "execution_count": 9,
     "metadata": {},
     "output_type": "execute_result"
    }
   ],
   "source": [
    "df_icp.sample(3)"
   ]
  },
  {
   "cell_type": "markdown",
   "id": "36e86d6f",
   "metadata": {},
   "source": [
    "### Creating Column for low and high spender. "
   ]
  },
  {
   "cell_type": "markdown",
   "id": "a575d9a5",
   "metadata": {},
   "source": [
    "If the average price of all orders of a customer is higher than ..., then this customer is considered a high spender."
   ]
  },
  {
   "cell_type": "code",
   "execution_count": 10,
   "id": "d50f44b3",
   "metadata": {},
   "outputs": [
    {
     "name": "stderr",
     "output_type": "stream",
     "text": [
      "/var/folders/5_/pv74frmn4fx0_vntxlc18yhm0000gn/T/ipykernel_85385/2219699636.py:2: FutureWarning: The provided callable <function sum at 0x111b24cc0> is currently using SeriesGroupBy.sum. In a future version of pandas, the provided callable will be used directly. To keep current behavior pass the string \"sum\" instead.\n",
      "  df_icp['order_total'] = df_icp.groupby(['customer', 'order_number'])['prices'].transform(np.sum)\n"
     ]
    }
   ],
   "source": [
    "# adding a column with the total cost of each order\n",
    "df_icp['order_total'] = df_icp.groupby(['customer', 'order_number'])['prices'].transform(np.sum)"
   ]
  },
  {
   "cell_type": "code",
   "execution_count": 11,
   "id": "52614e80",
   "metadata": {},
   "outputs": [
    {
     "name": "stderr",
     "output_type": "stream",
     "text": [
      "/var/folders/5_/pv74frmn4fx0_vntxlc18yhm0000gn/T/ipykernel_85385/2063419755.py:2: FutureWarning: The provided callable <function median at 0x113170680> is currently using SeriesGroupBy.median. In a future version of pandas, the provided callable will be used directly. To keep current behavior pass the string \"median\" instead.\n",
      "  df_icp['median_price_per_order'] = df_icp.groupby(['customer'])['order_total'].transform(np.median)\n"
     ]
    }
   ],
   "source": [
    "# creating a column with the average spend per order of a customer\n",
    "df_icp['median_price_per_order'] = df_icp.groupby(['customer'])['order_total'].transform(np.median)"
   ]
  },
  {
   "cell_type": "code",
   "execution_count": 12,
   "id": "9c81b46f",
   "metadata": {},
   "outputs": [
    {
     "data": {
      "text/plain": [
       "718.6"
      ]
     },
     "execution_count": 12,
     "metadata": {},
     "output_type": "execute_result"
    }
   ],
   "source": [
    "df_icp['median_price_per_order'].max()"
   ]
  },
  {
   "cell_type": "code",
   "execution_count": 13,
   "id": "99636ada",
   "metadata": {},
   "outputs": [
    {
     "data": {
      "text/plain": [
       "1.0"
      ]
     },
     "execution_count": 13,
     "metadata": {},
     "output_type": "execute_result"
    }
   ],
   "source": [
    "df_icp['median_price_per_order'].min()"
   ]
  },
  {
   "cell_type": "code",
   "execution_count": 14,
   "id": "336e07c6",
   "metadata": {},
   "outputs": [
    {
     "data": {
      "text/plain": [
       "count    3.381971e+07\n",
       "mean     1.203322e+02\n",
       "std      5.892960e+01\n",
       "min      1.000000e+00\n",
       "25%      7.800000e+01\n",
       "50%      1.109000e+02\n",
       "75%      1.522000e+02\n",
       "max      7.186000e+02\n",
       "Name: median_price_per_order, dtype: float64"
      ]
     },
     "execution_count": 14,
     "metadata": {},
     "output_type": "execute_result"
    }
   ],
   "source": [
    "df_icp['median_price_per_order'].describe()"
   ]
  },
  {
   "cell_type": "code",
   "execution_count": 15,
   "id": "23553170",
   "metadata": {},
   "outputs": [
    {
     "name": "stderr",
     "output_type": "stream",
     "text": [
      "/var/folders/5_/pv74frmn4fx0_vntxlc18yhm0000gn/T/ipykernel_85385/2072758051.py:2: FutureWarning: Setting an item of incompatible dtype is deprecated and will raise in a future error of pandas. Value 'Low spender' has dtype incompatible with float64, please explicitly cast to a compatible dtype first.\n",
      "  df_icp.loc[df_icp['median_price_per_order'] < 78, 'spend_flag'] = 'Low spender'\n"
     ]
    }
   ],
   "source": [
    "# creating the column for the 2 groups, desided on the threshold of 78 ~ 25% median\n",
    "df_icp.loc[df_icp['median_price_per_order'] < 78, 'spend_flag'] = 'Low spender'\n",
    "df_icp.loc[df_icp['median_price_per_order'] >= 78, 'spend_flag'] = 'High spender'"
   ]
  },
  {
   "cell_type": "code",
   "execution_count": 16,
   "id": "6cb0702d",
   "metadata": {},
   "outputs": [
    {
     "data": {
      "text/plain": [
       "spend_flag\n",
       "High spender    25389756\n",
       "Low spender      8429952\n",
       "Name: count, dtype: int64"
      ]
     },
     "execution_count": 16,
     "metadata": {},
     "output_type": "execute_result"
    }
   ],
   "source": [
    "df_icp['spend_flag'].value_counts(dropna = False)"
   ]
  },
  {
   "cell_type": "markdown",
   "id": "80492a2c",
   "metadata": {},
   "source": [
    "### Creating a Region column"
   ]
  },
  {
   "cell_type": "code",
   "execution_count": 17,
   "id": "b2f07d84",
   "metadata": {
    "scrolled": true
   },
   "outputs": [
    {
     "name": "stderr",
     "output_type": "stream",
     "text": [
      "/var/folders/5_/pv74frmn4fx0_vntxlc18yhm0000gn/T/ipykernel_85385/1119219788.py:2: FutureWarning: Setting an item of incompatible dtype is deprecated and will raise in a future error of pandas. Value 'Region 1 Northeast' has dtype incompatible with float64, please explicitly cast to a compatible dtype first.\n",
      "  df_icp.loc[df_icp['state'].isin(['Maine', 'New Hampshire', 'Vermont', 'massachusetts', 'Rhode Island', 'Connecticut', 'New York', 'Pennsylvania', 'New Jersey']), 'region'] = 'Region 1 Northeast'\n"
     ]
    }
   ],
   "source": [
    "# Set four Regions with the log-function\n",
    "df_icp.loc[df_icp['state'].isin(['Maine', 'New Hampshire', 'Vermont', 'massachusetts', 'Rhode Island', 'Connecticut', 'New York', 'Pennsylvania', 'New Jersey']), 'region'] = 'Region 1 Northeast'\n",
    "df_icp.loc[df_icp['state'].isin(['Wisconsin', 'Michigan', 'Illinois', 'Indiana', 'Ohio', 'North Dakota', 'South Dakota', 'Nebraska', 'Kansas', 'Iowa', 'Missouri']), 'region'] = 'Region 2 Midwest' \n",
    "df_icp.loc[df_icp['state'].isin(['Delaware', 'Maryland', 'District of Columbia', 'Virginia', 'West Virginia', 'North Carolina', 'South Carolina', 'Georgia', 'Florida', 'Kentucky', 'Tennessee', 'Mississippi', 'Alabama', 'Oklahoma', 'Texas', 'Arkansas', 'Louisiana']), 'region'] = 'Region 3 South'\n",
    "df_icp.loc[df_icp['state'].isin(['Idaho', 'Montana', 'Wyoming', 'Nevada', 'Utah', 'Colorado', 'Arizona', 'New Mexico', 'Alaska', 'Washington', 'Oregon', 'California', 'Hawaii']), 'region'] = 'Region 4 West'"
   ]
  },
  {
   "cell_type": "code",
   "execution_count": 18,
   "id": "605aa02a",
   "metadata": {},
   "outputs": [
    {
     "data": {
      "text/plain": [
       "region\n",
       "Region 3 South        11264099\n",
       "Region 4 West          8652562\n",
       "Region 2 Midwest       7256695\n",
       "Region 1 Northeast     5296514\n",
       "NaN                    1349838\n",
       "Name: count, dtype: int64"
      ]
     },
     "execution_count": 18,
     "metadata": {},
     "output_type": "execute_result"
    }
   ],
   "source": [
    "# checking \n",
    "df_icp['region'].value_counts(dropna = False)"
   ]
  },
  {
   "cell_type": "markdown",
   "id": "cb551f70",
   "metadata": {},
   "source": [
    "### Export"
   ]
  },
  {
   "cell_type": "code",
   "execution_count": 19,
   "id": "ebf06b40",
   "metadata": {},
   "outputs": [],
   "source": [
    "df_icp.to_pickle(os.path.join(path, '02 Data','Prepared Data', 'final_data.pkl'))"
   ]
  }
 ],
 "metadata": {
  "kernelspec": {
   "display_name": "Python 3 (ipykernel)",
   "language": "python",
   "name": "python3"
  },
  "language_info": {
   "codemirror_mode": {
    "name": "ipython",
    "version": 3
   },
   "file_extension": ".py",
   "mimetype": "text/x-python",
   "name": "python",
   "nbconvert_exporter": "python",
   "pygments_lexer": "ipython3",
   "version": "3.11.5"
  }
 },
 "nbformat": 4,
 "nbformat_minor": 5
}
