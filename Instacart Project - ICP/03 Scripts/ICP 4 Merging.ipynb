{
 "cells": [
  {
   "cell_type": "code",
   "execution_count": 1,
   "id": "46346969",
   "metadata": {},
   "outputs": [],
   "source": [
    "# import libraries\n",
    "import pandas as pd\n",
    "import numpy as np\n",
    "import os"
   ]
  },
  {
   "cell_type": "code",
   "execution_count": 2,
   "id": "a4b5cc4e",
   "metadata": {},
   "outputs": [],
   "source": [
    "pd.options.display.max_columns = None"
   ]
  },
  {
   "cell_type": "markdown",
   "id": "c953e40b",
   "metadata": {},
   "source": [
    "### Import Data"
   ]
  },
  {
   "cell_type": "code",
   "execution_count": 3,
   "id": "ce0f63b8",
   "metadata": {},
   "outputs": [],
   "source": [
    "path = r'/Users/henning/Documents/Data Analytics Portfolio/Instacart Project - ICP'"
   ]
  },
  {
   "cell_type": "code",
   "execution_count": 4,
   "id": "a837996f",
   "metadata": {},
   "outputs": [],
   "source": [
    "df_orders = pd.read_pickle(os.path.join(path, '02 Data', 'Prepared Data', 'orders_cleaned.pkl'))"
   ]
  },
  {
   "cell_type": "code",
   "execution_count": 5,
   "id": "d23354f0",
   "metadata": {},
   "outputs": [],
   "source": [
    "df_prior_baskets = pd.read_pickle(os.path.join(path, '02 Data', 'Prepared Data', 'old_baskets_cleaned.pkl'))"
   ]
  },
  {
   "cell_type": "code",
   "execution_count": 6,
   "id": "b88c00b6",
   "metadata": {},
   "outputs": [],
   "source": [
    "df_recent_baskets = pd.read_pickle(os.path.join(path, '02 Data', 'Prepared Data', 'recent_baskets_cleaned.pkl'))"
   ]
  },
  {
   "cell_type": "code",
   "execution_count": 7,
   "id": "bde49bc0",
   "metadata": {},
   "outputs": [],
   "source": [
    "df_products = pd.read_pickle(os.path.join(path, '02 Data', 'Prepared Data', 'products_cleaned.pkl'))"
   ]
  },
  {
   "cell_type": "code",
   "execution_count": 8,
   "id": "5448b36b",
   "metadata": {},
   "outputs": [],
   "source": [
    "df_department = pd.read_csv(os.path.join(path, '02 Data', 'Original Data', 'departments.csv'))"
   ]
  },
  {
   "cell_type": "code",
   "execution_count": 9,
   "id": "2d0a364f",
   "metadata": {},
   "outputs": [],
   "source": [
    "df_aisles = pd.read_csv(os.path.join(path, '02 Data', 'Original Data', 'aisles.csv'))"
   ]
  },
  {
   "cell_type": "code",
   "execution_count": 10,
   "id": "af8c89c2",
   "metadata": {},
   "outputs": [],
   "source": [
    "df_customer = pd.read_pickle(os.path.join(path, '02 Data', 'Prepared Data', 'customers_cleaned.pkl'))"
   ]
  },
  {
   "cell_type": "markdown",
   "id": "122e0a67",
   "metadata": {},
   "source": [
    "### Small data cleaning on department and aisles data set"
   ]
  },
  {
   "cell_type": "code",
   "execution_count": 11,
   "id": "edc43280",
   "metadata": {},
   "outputs": [],
   "source": [
    "# changing IDs into string type\n",
    "df_department['department_id'] = df_department['department_id'].astype('str')\n",
    "df_aisles['aisle_id'] = df_aisles['aisle_id'].astype('str')"
   ]
  },
  {
   "cell_type": "markdown",
   "id": "5fc41522",
   "metadata": {},
   "source": [
    "### Merging Order Data Set with the old Baskets Data Set"
   ]
  },
  {
   "cell_type": "code",
   "execution_count": 12,
   "id": "a59c941c",
   "metadata": {},
   "outputs": [],
   "source": [
    "# filtering df_order to include only the previous orders.\n",
    "df_orders_prior = df_orders[df_orders['eval_set'] == 'prior']"
   ]
  },
  {
   "cell_type": "code",
   "execution_count": 13,
   "id": "db907913",
   "metadata": {},
   "outputs": [
    {
     "data": {
      "text/plain": [
       "(3214874, 7)"
      ]
     },
     "execution_count": 13,
     "metadata": {},
     "output_type": "execute_result"
    }
   ],
   "source": [
    "# deciding type of join by checking number of rows\n",
    "df_orders_prior.shape"
   ]
  },
  {
   "cell_type": "code",
   "execution_count": 14,
   "id": "7178919c",
   "metadata": {},
   "outputs": [
    {
     "data": {
      "text/plain": [
       "(32434489, 3)"
      ]
     },
     "execution_count": 14,
     "metadata": {},
     "output_type": "execute_result"
    }
   ],
   "source": [
    "df_prior_baskets.shape"
   ]
  },
  {
   "cell_type": "code",
   "execution_count": 15,
   "id": "6ce7a2dc",
   "metadata": {},
   "outputs": [],
   "source": [
    "# combining dataframes\n",
    "df_prior =  df_prior_baskets.merge(df_orders_prior, on = 'order_id', how='left', indicator = True)"
   ]
  },
  {
   "cell_type": "code",
   "execution_count": 16,
   "id": "c7e84ef3",
   "metadata": {},
   "outputs": [
    {
     "data": {
      "text/plain": [
       "_merge\n",
       "both          32434489\n",
       "left_only            0\n",
       "right_only           0\n",
       "Name: count, dtype: int64"
      ]
     },
     "execution_count": 16,
     "metadata": {},
     "output_type": "execute_result"
    }
   ],
   "source": [
    "df_prior['_merge'].value_counts()"
   ]
  },
  {
   "cell_type": "code",
   "execution_count": 17,
   "id": "224adbd4",
   "metadata": {},
   "outputs": [],
   "source": [
    "# dropping _merge column for the next combination\n",
    "df_prior = df_prior.drop(columns = ['_merge'])"
   ]
  },
  {
   "cell_type": "markdown",
   "id": "fbda4aad",
   "metadata": {},
   "source": [
    "### Merging Order Data Set with the recent Baskets Data Set"
   ]
  },
  {
   "cell_type": "code",
   "execution_count": 18,
   "id": "198a4445",
   "metadata": {},
   "outputs": [],
   "source": [
    "# filtering df_order to include only the recent orders.\n",
    "df_orders_recent = df_orders[df_orders['eval_set'] == 'train']"
   ]
  },
  {
   "cell_type": "code",
   "execution_count": 19,
   "id": "63369422",
   "metadata": {},
   "outputs": [
    {
     "data": {
      "text/plain": [
       "(131209, 7)"
      ]
     },
     "execution_count": 19,
     "metadata": {},
     "output_type": "execute_result"
    }
   ],
   "source": [
    "# deciding type of join by checking number of rows\n",
    "df_orders_recent.shape"
   ]
  },
  {
   "cell_type": "code",
   "execution_count": 20,
   "id": "8ca01ab1",
   "metadata": {},
   "outputs": [
    {
     "data": {
      "text/plain": [
       "(1384617, 3)"
      ]
     },
     "execution_count": 20,
     "metadata": {},
     "output_type": "execute_result"
    }
   ],
   "source": [
    "df_recent_baskets.shape"
   ]
  },
  {
   "cell_type": "code",
   "execution_count": 21,
   "id": "581abf03",
   "metadata": {},
   "outputs": [],
   "source": [
    "# combining dataframes\n",
    "df_recent =  df_recent_baskets.merge(df_orders_recent, on = 'order_id', how='left', indicator = True)"
   ]
  },
  {
   "cell_type": "code",
   "execution_count": 22,
   "id": "3c8bc5d3",
   "metadata": {},
   "outputs": [
    {
     "data": {
      "text/plain": [
       "_merge\n",
       "both          1384617\n",
       "left_only           0\n",
       "right_only          0\n",
       "Name: count, dtype: int64"
      ]
     },
     "execution_count": 22,
     "metadata": {},
     "output_type": "execute_result"
    }
   ],
   "source": [
    "df_recent['_merge'].value_counts()"
   ]
  },
  {
   "cell_type": "code",
   "execution_count": 23,
   "id": "fbfc3386",
   "metadata": {},
   "outputs": [],
   "source": [
    "# dropping _merge column for the next combination\n",
    "df_recent = df_recent.drop(columns = ['_merge'])"
   ]
  },
  {
   "cell_type": "markdown",
   "id": "04d58160",
   "metadata": {},
   "source": [
    "### Merging df_prior and df_recent to df_1"
   ]
  },
  {
   "cell_type": "code",
   "execution_count": 24,
   "id": "ba71efb9",
   "metadata": {},
   "outputs": [],
   "source": [
    "# Concatenating the Data\n",
    "frames = [df_prior, df_recent]\n",
    "df_1 = pd.concat(frames, axis = 0)"
   ]
  },
  {
   "cell_type": "code",
   "execution_count": 25,
   "id": "dedef798",
   "metadata": {},
   "outputs": [
    {
     "data": {
      "text/html": [
       "<div>\n",
       "<style scoped>\n",
       "    .dataframe tbody tr th:only-of-type {\n",
       "        vertical-align: middle;\n",
       "    }\n",
       "\n",
       "    .dataframe tbody tr th {\n",
       "        vertical-align: top;\n",
       "    }\n",
       "\n",
       "    .dataframe thead th {\n",
       "        text-align: right;\n",
       "    }\n",
       "</style>\n",
       "<table border=\"1\" class=\"dataframe\">\n",
       "  <thead>\n",
       "    <tr style=\"text-align: right;\">\n",
       "      <th></th>\n",
       "      <th>order_id</th>\n",
       "      <th>product_id</th>\n",
       "      <th>reordered</th>\n",
       "      <th>user_id</th>\n",
       "      <th>eval_set</th>\n",
       "      <th>order_number</th>\n",
       "      <th>order_weekday</th>\n",
       "      <th>order_hour_of_day</th>\n",
       "      <th>days_since_last_order</th>\n",
       "    </tr>\n",
       "  </thead>\n",
       "  <tbody>\n",
       "    <tr>\n",
       "      <th>0</th>\n",
       "      <td>2</td>\n",
       "      <td>33120</td>\n",
       "      <td>1</td>\n",
       "      <td>202279</td>\n",
       "      <td>prior</td>\n",
       "      <td>3</td>\n",
       "      <td>5</td>\n",
       "      <td>9</td>\n",
       "      <td>8.0</td>\n",
       "    </tr>\n",
       "    <tr>\n",
       "      <th>1</th>\n",
       "      <td>2</td>\n",
       "      <td>28985</td>\n",
       "      <td>1</td>\n",
       "      <td>202279</td>\n",
       "      <td>prior</td>\n",
       "      <td>3</td>\n",
       "      <td>5</td>\n",
       "      <td>9</td>\n",
       "      <td>8.0</td>\n",
       "    </tr>\n",
       "    <tr>\n",
       "      <th>2</th>\n",
       "      <td>2</td>\n",
       "      <td>9327</td>\n",
       "      <td>0</td>\n",
       "      <td>202279</td>\n",
       "      <td>prior</td>\n",
       "      <td>3</td>\n",
       "      <td>5</td>\n",
       "      <td>9</td>\n",
       "      <td>8.0</td>\n",
       "    </tr>\n",
       "    <tr>\n",
       "      <th>3</th>\n",
       "      <td>2</td>\n",
       "      <td>45918</td>\n",
       "      <td>1</td>\n",
       "      <td>202279</td>\n",
       "      <td>prior</td>\n",
       "      <td>3</td>\n",
       "      <td>5</td>\n",
       "      <td>9</td>\n",
       "      <td>8.0</td>\n",
       "    </tr>\n",
       "    <tr>\n",
       "      <th>4</th>\n",
       "      <td>2</td>\n",
       "      <td>30035</td>\n",
       "      <td>0</td>\n",
       "      <td>202279</td>\n",
       "      <td>prior</td>\n",
       "      <td>3</td>\n",
       "      <td>5</td>\n",
       "      <td>9</td>\n",
       "      <td>8.0</td>\n",
       "    </tr>\n",
       "    <tr>\n",
       "      <th>...</th>\n",
       "      <td>...</td>\n",
       "      <td>...</td>\n",
       "      <td>...</td>\n",
       "      <td>...</td>\n",
       "      <td>...</td>\n",
       "      <td>...</td>\n",
       "      <td>...</td>\n",
       "      <td>...</td>\n",
       "      <td>...</td>\n",
       "    </tr>\n",
       "    <tr>\n",
       "      <th>1384612</th>\n",
       "      <td>3421063</td>\n",
       "      <td>14233</td>\n",
       "      <td>1</td>\n",
       "      <td>169679</td>\n",
       "      <td>train</td>\n",
       "      <td>30</td>\n",
       "      <td>0</td>\n",
       "      <td>10</td>\n",
       "      <td>4.0</td>\n",
       "    </tr>\n",
       "    <tr>\n",
       "      <th>1384613</th>\n",
       "      <td>3421063</td>\n",
       "      <td>35548</td>\n",
       "      <td>1</td>\n",
       "      <td>169679</td>\n",
       "      <td>train</td>\n",
       "      <td>30</td>\n",
       "      <td>0</td>\n",
       "      <td>10</td>\n",
       "      <td>4.0</td>\n",
       "    </tr>\n",
       "    <tr>\n",
       "      <th>1384614</th>\n",
       "      <td>3421070</td>\n",
       "      <td>35951</td>\n",
       "      <td>1</td>\n",
       "      <td>139822</td>\n",
       "      <td>train</td>\n",
       "      <td>15</td>\n",
       "      <td>6</td>\n",
       "      <td>10</td>\n",
       "      <td>8.0</td>\n",
       "    </tr>\n",
       "    <tr>\n",
       "      <th>1384615</th>\n",
       "      <td>3421070</td>\n",
       "      <td>16953</td>\n",
       "      <td>1</td>\n",
       "      <td>139822</td>\n",
       "      <td>train</td>\n",
       "      <td>15</td>\n",
       "      <td>6</td>\n",
       "      <td>10</td>\n",
       "      <td>8.0</td>\n",
       "    </tr>\n",
       "    <tr>\n",
       "      <th>1384616</th>\n",
       "      <td>3421070</td>\n",
       "      <td>4724</td>\n",
       "      <td>1</td>\n",
       "      <td>139822</td>\n",
       "      <td>train</td>\n",
       "      <td>15</td>\n",
       "      <td>6</td>\n",
       "      <td>10</td>\n",
       "      <td>8.0</td>\n",
       "    </tr>\n",
       "  </tbody>\n",
       "</table>\n",
       "<p>33819106 rows × 9 columns</p>\n",
       "</div>"
      ],
      "text/plain": [
       "        order_id product_id  reordered user_id eval_set  order_number  \\\n",
       "0              2      33120          1  202279    prior             3   \n",
       "1              2      28985          1  202279    prior             3   \n",
       "2              2       9327          0  202279    prior             3   \n",
       "3              2      45918          1  202279    prior             3   \n",
       "4              2      30035          0  202279    prior             3   \n",
       "...          ...        ...        ...     ...      ...           ...   \n",
       "1384612  3421063      14233          1  169679    train            30   \n",
       "1384613  3421063      35548          1  169679    train            30   \n",
       "1384614  3421070      35951          1  139822    train            15   \n",
       "1384615  3421070      16953          1  139822    train            15   \n",
       "1384616  3421070       4724          1  139822    train            15   \n",
       "\n",
       "         order_weekday  order_hour_of_day  days_since_last_order  \n",
       "0                    5                  9                    8.0  \n",
       "1                    5                  9                    8.0  \n",
       "2                    5                  9                    8.0  \n",
       "3                    5                  9                    8.0  \n",
       "4                    5                  9                    8.0  \n",
       "...                ...                ...                    ...  \n",
       "1384612              0                 10                    4.0  \n",
       "1384613              0                 10                    4.0  \n",
       "1384614              6                 10                    8.0  \n",
       "1384615              6                 10                    8.0  \n",
       "1384616              6                 10                    8.0  \n",
       "\n",
       "[33819106 rows x 9 columns]"
      ]
     },
     "execution_count": 25,
     "metadata": {},
     "output_type": "execute_result"
    }
   ],
   "source": [
    "df_1"
   ]
  },
  {
   "cell_type": "markdown",
   "id": "63c1b2be",
   "metadata": {},
   "source": [
    "### Merging df_1 with the next data frame: products"
   ]
  },
  {
   "cell_type": "code",
   "execution_count": 26,
   "id": "912149ed",
   "metadata": {},
   "outputs": [
    {
     "data": {
      "text/plain": [
       "(33819106, 9)"
      ]
     },
     "execution_count": 26,
     "metadata": {},
     "output_type": "execute_result"
    }
   ],
   "source": [
    "# deciding type of join by checking number of rows\n",
    "df_1.shape"
   ]
  },
  {
   "cell_type": "code",
   "execution_count": 27,
   "id": "69eafcd9",
   "metadata": {},
   "outputs": [
    {
     "data": {
      "text/plain": [
       "(49688, 5)"
      ]
     },
     "execution_count": 27,
     "metadata": {},
     "output_type": "execute_result"
    }
   ],
   "source": [
    "df_products.shape"
   ]
  },
  {
   "cell_type": "code",
   "execution_count": 28,
   "id": "3385f6b9",
   "metadata": {},
   "outputs": [],
   "source": [
    "# combining dataframes with left join to include all orders, but to exclude unordered products.\n",
    "df_2 =  df_1.merge(df_products, on = 'product_id', how='left', indicator = True)"
   ]
  },
  {
   "cell_type": "code",
   "execution_count": 29,
   "id": "8ef6629d",
   "metadata": {},
   "outputs": [
    {
     "data": {
      "text/plain": [
       "_merge\n",
       "both          33817591\n",
       "left_only         2117\n",
       "right_only           0\n",
       "Name: count, dtype: int64"
      ]
     },
     "execution_count": 29,
     "metadata": {},
     "output_type": "execute_result"
    }
   ],
   "source": [
    "df_2['_merge'].value_counts()"
   ]
  },
  {
   "cell_type": "code",
   "execution_count": 30,
   "id": "6dfd8cdd",
   "metadata": {},
   "outputs": [
    {
     "data": {
      "text/html": [
       "<div>\n",
       "<style scoped>\n",
       "    .dataframe tbody tr th:only-of-type {\n",
       "        vertical-align: middle;\n",
       "    }\n",
       "\n",
       "    .dataframe tbody tr th {\n",
       "        vertical-align: top;\n",
       "    }\n",
       "\n",
       "    .dataframe thead th {\n",
       "        text-align: right;\n",
       "    }\n",
       "</style>\n",
       "<table border=\"1\" class=\"dataframe\">\n",
       "  <thead>\n",
       "    <tr style=\"text-align: right;\">\n",
       "      <th></th>\n",
       "      <th>order_id</th>\n",
       "      <th>product_id</th>\n",
       "      <th>reordered</th>\n",
       "      <th>user_id</th>\n",
       "      <th>eval_set</th>\n",
       "      <th>order_number</th>\n",
       "      <th>order_weekday</th>\n",
       "      <th>order_hour_of_day</th>\n",
       "      <th>days_since_last_order</th>\n",
       "      <th>product_name</th>\n",
       "      <th>aisle_id</th>\n",
       "      <th>department_id</th>\n",
       "      <th>prices</th>\n",
       "      <th>_merge</th>\n",
       "    </tr>\n",
       "  </thead>\n",
       "  <tbody>\n",
       "    <tr>\n",
       "      <th>16863</th>\n",
       "      <td>1770</td>\n",
       "      <td>6799</td>\n",
       "      <td>1</td>\n",
       "      <td>678</td>\n",
       "      <td>prior</td>\n",
       "      <td>18</td>\n",
       "      <td>3</td>\n",
       "      <td>13</td>\n",
       "      <td>12.0</td>\n",
       "      <td>NaN</td>\n",
       "      <td>NaN</td>\n",
       "      <td>NaN</td>\n",
       "      <td>NaN</td>\n",
       "      <td>left_only</td>\n",
       "    </tr>\n",
       "    <tr>\n",
       "      <th>32562</th>\n",
       "      <td>3387</td>\n",
       "      <td>6799</td>\n",
       "      <td>1</td>\n",
       "      <td>175450</td>\n",
       "      <td>prior</td>\n",
       "      <td>9</td>\n",
       "      <td>1</td>\n",
       "      <td>19</td>\n",
       "      <td>17.0</td>\n",
       "      <td>NaN</td>\n",
       "      <td>NaN</td>\n",
       "      <td>NaN</td>\n",
       "      <td>NaN</td>\n",
       "      <td>left_only</td>\n",
       "    </tr>\n",
       "    <tr>\n",
       "      <th>66688</th>\n",
       "      <td>7099</td>\n",
       "      <td>6799</td>\n",
       "      <td>0</td>\n",
       "      <td>27</td>\n",
       "      <td>prior</td>\n",
       "      <td>63</td>\n",
       "      <td>3</td>\n",
       "      <td>10</td>\n",
       "      <td>1.0</td>\n",
       "      <td>NaN</td>\n",
       "      <td>NaN</td>\n",
       "      <td>NaN</td>\n",
       "      <td>NaN</td>\n",
       "      <td>left_only</td>\n",
       "    </tr>\n",
       "    <tr>\n",
       "      <th>72827</th>\n",
       "      <td>7754</td>\n",
       "      <td>6799</td>\n",
       "      <td>1</td>\n",
       "      <td>1629</td>\n",
       "      <td>prior</td>\n",
       "      <td>20</td>\n",
       "      <td>3</td>\n",
       "      <td>18</td>\n",
       "      <td>10.0</td>\n",
       "      <td>NaN</td>\n",
       "      <td>NaN</td>\n",
       "      <td>NaN</td>\n",
       "      <td>NaN</td>\n",
       "      <td>left_only</td>\n",
       "    </tr>\n",
       "    <tr>\n",
       "      <th>76643</th>\n",
       "      <td>8153</td>\n",
       "      <td>6799</td>\n",
       "      <td>0</td>\n",
       "      <td>56820</td>\n",
       "      <td>prior</td>\n",
       "      <td>2</td>\n",
       "      <td>1</td>\n",
       "      <td>19</td>\n",
       "      <td>30.0</td>\n",
       "      <td>NaN</td>\n",
       "      <td>NaN</td>\n",
       "      <td>NaN</td>\n",
       "      <td>NaN</td>\n",
       "      <td>left_only</td>\n",
       "    </tr>\n",
       "    <tr>\n",
       "      <th>...</th>\n",
       "      <td>...</td>\n",
       "      <td>...</td>\n",
       "      <td>...</td>\n",
       "      <td>...</td>\n",
       "      <td>...</td>\n",
       "      <td>...</td>\n",
       "      <td>...</td>\n",
       "      <td>...</td>\n",
       "      <td>...</td>\n",
       "      <td>...</td>\n",
       "      <td>...</td>\n",
       "      <td>...</td>\n",
       "      <td>...</td>\n",
       "      <td>...</td>\n",
       "    </tr>\n",
       "    <tr>\n",
       "      <th>33745421</th>\n",
       "      <td>3236456</td>\n",
       "      <td>6799</td>\n",
       "      <td>1</td>\n",
       "      <td>135766</td>\n",
       "      <td>train</td>\n",
       "      <td>8</td>\n",
       "      <td>2</td>\n",
       "      <td>20</td>\n",
       "      <td>30.0</td>\n",
       "      <td>NaN</td>\n",
       "      <td>NaN</td>\n",
       "      <td>NaN</td>\n",
       "      <td>NaN</td>\n",
       "      <td>left_only</td>\n",
       "    </tr>\n",
       "    <tr>\n",
       "      <th>33764342</th>\n",
       "      <td>3284493</td>\n",
       "      <td>6799</td>\n",
       "      <td>1</td>\n",
       "      <td>98534</td>\n",
       "      <td>train</td>\n",
       "      <td>30</td>\n",
       "      <td>1</td>\n",
       "      <td>18</td>\n",
       "      <td>16.0</td>\n",
       "      <td>NaN</td>\n",
       "      <td>NaN</td>\n",
       "      <td>NaN</td>\n",
       "      <td>NaN</td>\n",
       "      <td>left_only</td>\n",
       "    </tr>\n",
       "    <tr>\n",
       "      <th>33784175</th>\n",
       "      <td>3332831</td>\n",
       "      <td>6799</td>\n",
       "      <td>0</td>\n",
       "      <td>137861</td>\n",
       "      <td>train</td>\n",
       "      <td>4</td>\n",
       "      <td>0</td>\n",
       "      <td>14</td>\n",
       "      <td>30.0</td>\n",
       "      <td>NaN</td>\n",
       "      <td>NaN</td>\n",
       "      <td>NaN</td>\n",
       "      <td>NaN</td>\n",
       "      <td>left_only</td>\n",
       "    </tr>\n",
       "    <tr>\n",
       "      <th>33802900</th>\n",
       "      <td>3381717</td>\n",
       "      <td>6799</td>\n",
       "      <td>0</td>\n",
       "      <td>169142</td>\n",
       "      <td>train</td>\n",
       "      <td>9</td>\n",
       "      <td>0</td>\n",
       "      <td>14</td>\n",
       "      <td>1.0</td>\n",
       "      <td>NaN</td>\n",
       "      <td>NaN</td>\n",
       "      <td>NaN</td>\n",
       "      <td>NaN</td>\n",
       "      <td>left_only</td>\n",
       "    </tr>\n",
       "    <tr>\n",
       "      <th>33819286</th>\n",
       "      <td>3420257</td>\n",
       "      <td>6799</td>\n",
       "      <td>1</td>\n",
       "      <td>92532</td>\n",
       "      <td>train</td>\n",
       "      <td>35</td>\n",
       "      <td>6</td>\n",
       "      <td>17</td>\n",
       "      <td>7.0</td>\n",
       "      <td>NaN</td>\n",
       "      <td>NaN</td>\n",
       "      <td>NaN</td>\n",
       "      <td>NaN</td>\n",
       "      <td>left_only</td>\n",
       "    </tr>\n",
       "  </tbody>\n",
       "</table>\n",
       "<p>2117 rows × 14 columns</p>\n",
       "</div>"
      ],
      "text/plain": [
       "         order_id product_id  reordered user_id eval_set  order_number  \\\n",
       "16863        1770       6799          1     678    prior            18   \n",
       "32562        3387       6799          1  175450    prior             9   \n",
       "66688        7099       6799          0      27    prior            63   \n",
       "72827        7754       6799          1    1629    prior            20   \n",
       "76643        8153       6799          0   56820    prior             2   \n",
       "...           ...        ...        ...     ...      ...           ...   \n",
       "33745421  3236456       6799          1  135766    train             8   \n",
       "33764342  3284493       6799          1   98534    train            30   \n",
       "33784175  3332831       6799          0  137861    train             4   \n",
       "33802900  3381717       6799          0  169142    train             9   \n",
       "33819286  3420257       6799          1   92532    train            35   \n",
       "\n",
       "          order_weekday  order_hour_of_day  days_since_last_order  \\\n",
       "16863                 3                 13                   12.0   \n",
       "32562                 1                 19                   17.0   \n",
       "66688                 3                 10                    1.0   \n",
       "72827                 3                 18                   10.0   \n",
       "76643                 1                 19                   30.0   \n",
       "...                 ...                ...                    ...   \n",
       "33745421              2                 20                   30.0   \n",
       "33764342              1                 18                   16.0   \n",
       "33784175              0                 14                   30.0   \n",
       "33802900              0                 14                    1.0   \n",
       "33819286              6                 17                    7.0   \n",
       "\n",
       "         product_name aisle_id department_id  prices     _merge  \n",
       "16863             NaN      NaN           NaN     NaN  left_only  \n",
       "32562             NaN      NaN           NaN     NaN  left_only  \n",
       "66688             NaN      NaN           NaN     NaN  left_only  \n",
       "72827             NaN      NaN           NaN     NaN  left_only  \n",
       "76643             NaN      NaN           NaN     NaN  left_only  \n",
       "...               ...      ...           ...     ...        ...  \n",
       "33745421          NaN      NaN           NaN     NaN  left_only  \n",
       "33764342          NaN      NaN           NaN     NaN  left_only  \n",
       "33784175          NaN      NaN           NaN     NaN  left_only  \n",
       "33802900          NaN      NaN           NaN     NaN  left_only  \n",
       "33819286          NaN      NaN           NaN     NaN  left_only  \n",
       "\n",
       "[2117 rows x 14 columns]"
      ]
     },
     "execution_count": 30,
     "metadata": {},
     "output_type": "execute_result"
    }
   ],
   "source": [
    "df_2[df_2['_merge'] == 'left_only']"
   ]
  },
  {
   "cell_type": "markdown",
   "id": "df95410c",
   "metadata": {},
   "source": [
    "There are orders, where the data on the product is not available. The decision is to leave them in as they still can provide statistical insights on the time and date when a order is placed."
   ]
  },
  {
   "cell_type": "code",
   "execution_count": 31,
   "id": "725d8855",
   "metadata": {},
   "outputs": [],
   "source": [
    "# dropping _merge column for the next combination\n",
    "df_2 = df_2.drop(columns = ['_merge'])"
   ]
  },
  {
   "cell_type": "markdown",
   "id": "65d58f44",
   "metadata": {},
   "source": [
    "### Merging df_2 with department information"
   ]
  },
  {
   "cell_type": "code",
   "execution_count": 32,
   "id": "b60eb542",
   "metadata": {},
   "outputs": [
    {
     "data": {
      "text/plain": [
       "(33819708, 13)"
      ]
     },
     "execution_count": 32,
     "metadata": {},
     "output_type": "execute_result"
    }
   ],
   "source": [
    "# deciding type of join by checking number of rows\n",
    "df_2.shape"
   ]
  },
  {
   "cell_type": "code",
   "execution_count": 33,
   "id": "f81260f2",
   "metadata": {},
   "outputs": [
    {
     "data": {
      "text/plain": [
       "(21, 2)"
      ]
     },
     "execution_count": 33,
     "metadata": {},
     "output_type": "execute_result"
    }
   ],
   "source": [
    "df_department.shape"
   ]
  },
  {
   "cell_type": "code",
   "execution_count": 34,
   "id": "560d4053",
   "metadata": {},
   "outputs": [],
   "source": [
    "# combining dataframes\n",
    "df_3 =  df_2.merge(df_department, on = 'department_id', how='left', indicator = True)"
   ]
  },
  {
   "cell_type": "code",
   "execution_count": 35,
   "id": "ff9001c0",
   "metadata": {},
   "outputs": [
    {
     "data": {
      "text/plain": [
       "_merge\n",
       "both          33817591\n",
       "left_only         2117\n",
       "right_only           0\n",
       "Name: count, dtype: int64"
      ]
     },
     "execution_count": 35,
     "metadata": {},
     "output_type": "execute_result"
    }
   ],
   "source": [
    "df_3['_merge'].value_counts()"
   ]
  },
  {
   "cell_type": "code",
   "execution_count": 36,
   "id": "46d0cbb6",
   "metadata": {},
   "outputs": [],
   "source": [
    "# dropping _merge column for the next combination\n",
    "df_3 = df_3.drop(columns = ['_merge'])"
   ]
  },
  {
   "cell_type": "markdown",
   "id": "2fd29efe",
   "metadata": {},
   "source": [
    "### Merging df_3 with aisles information"
   ]
  },
  {
   "cell_type": "code",
   "execution_count": 37,
   "id": "156fd273",
   "metadata": {},
   "outputs": [],
   "source": [
    "# combining dataframes\n",
    "df_4 =  df_3.merge(df_aisles, on = 'aisle_id', how='left', indicator = True)"
   ]
  },
  {
   "cell_type": "code",
   "execution_count": 38,
   "id": "f5ec95a5",
   "metadata": {},
   "outputs": [
    {
     "data": {
      "text/plain": [
       "_merge\n",
       "both          33817591\n",
       "left_only         2117\n",
       "right_only           0\n",
       "Name: count, dtype: int64"
      ]
     },
     "execution_count": 38,
     "metadata": {},
     "output_type": "execute_result"
    }
   ],
   "source": [
    "df_4['_merge'].value_counts()"
   ]
  },
  {
   "cell_type": "code",
   "execution_count": 39,
   "id": "a143123c",
   "metadata": {},
   "outputs": [],
   "source": [
    "# dropping _merge column for the next combination\n",
    "df_4 = df_4.drop(columns = ['_merge'])"
   ]
  },
  {
   "cell_type": "markdown",
   "id": "bff61b2a",
   "metadata": {},
   "source": [
    "### Merging df_4 with customer data"
   ]
  },
  {
   "cell_type": "code",
   "execution_count": 40,
   "id": "234fa61b",
   "metadata": {},
   "outputs": [
    {
     "data": {
      "text/plain": [
       "(33819708, 15)"
      ]
     },
     "execution_count": 40,
     "metadata": {},
     "output_type": "execute_result"
    }
   ],
   "source": [
    "# checking number of rows\n",
    "df_4.shape"
   ]
  },
  {
   "cell_type": "code",
   "execution_count": 41,
   "id": "6cef1cb8",
   "metadata": {},
   "outputs": [
    {
     "data": {
      "text/plain": [
       "(206209, 7)"
      ]
     },
     "execution_count": 41,
     "metadata": {},
     "output_type": "execute_result"
    }
   ],
   "source": [
    "df_customer.shape"
   ]
  },
  {
   "cell_type": "code",
   "execution_count": 42,
   "id": "64ccb35d",
   "metadata": {},
   "outputs": [],
   "source": [
    "# combining dataframes\n",
    "df_instacart =  df_4.merge(df_customer, on = 'user_id', how='inner', indicator = True)"
   ]
  },
  {
   "cell_type": "code",
   "execution_count": 43,
   "id": "972326e1",
   "metadata": {},
   "outputs": [
    {
     "data": {
      "text/plain": [
       "_merge\n",
       "both          33819708\n",
       "left_only            0\n",
       "right_only           0\n",
       "Name: count, dtype: int64"
      ]
     },
     "execution_count": 43,
     "metadata": {},
     "output_type": "execute_result"
    }
   ],
   "source": [
    "df_instacart['_merge'].value_counts()"
   ]
  },
  {
   "cell_type": "code",
   "execution_count": 44,
   "id": "abee882b",
   "metadata": {
    "scrolled": false
   },
   "outputs": [],
   "source": [
    "# dropping _merge column for the next combination\n",
    "df_instacart = df_instacart.drop(columns = ['_merge'])"
   ]
  },
  {
   "cell_type": "markdown",
   "id": "2de078de",
   "metadata": {},
   "source": [
    "### Removing ID columns"
   ]
  },
  {
   "cell_type": "code",
   "execution_count": 45,
   "id": "94d40caa",
   "metadata": {},
   "outputs": [],
   "source": [
    "# because the eval_set and ID columns are only necessary for combining the data sets,\n",
    "# they can now be removed as we don't need them for the upcoming analysis.\n",
    "# Only the User_id stays, as it is the only way to identify a specific customer.\n",
    "df_instacart = df_instacart.drop(columns = ['eval_set', 'order_id', 'product_id', 'aisle_id', 'department_id'])"
   ]
  },
  {
   "cell_type": "code",
   "execution_count": 46,
   "id": "f7374650",
   "metadata": {},
   "outputs": [],
   "source": [
    "# renaming user_id column for better understanding and readability\n",
    "df_instacart.rename(columns = {'user_id' : 'customer'}, inplace = True)"
   ]
  },
  {
   "cell_type": "code",
   "execution_count": 47,
   "id": "d6a5e16f",
   "metadata": {},
   "outputs": [
    {
     "data": {
      "text/html": [
       "<div>\n",
       "<style scoped>\n",
       "    .dataframe tbody tr th:only-of-type {\n",
       "        vertical-align: middle;\n",
       "    }\n",
       "\n",
       "    .dataframe tbody tr th {\n",
       "        vertical-align: top;\n",
       "    }\n",
       "\n",
       "    .dataframe thead th {\n",
       "        text-align: right;\n",
       "    }\n",
       "</style>\n",
       "<table border=\"1\" class=\"dataframe\">\n",
       "  <thead>\n",
       "    <tr style=\"text-align: right;\">\n",
       "      <th></th>\n",
       "      <th>reordered</th>\n",
       "      <th>customer</th>\n",
       "      <th>order_number</th>\n",
       "      <th>order_weekday</th>\n",
       "      <th>order_hour_of_day</th>\n",
       "      <th>days_since_last_order</th>\n",
       "      <th>product_name</th>\n",
       "      <th>prices</th>\n",
       "      <th>department</th>\n",
       "      <th>aisle</th>\n",
       "      <th>gender</th>\n",
       "      <th>state</th>\n",
       "      <th>age</th>\n",
       "      <th>date_joined</th>\n",
       "      <th>civil_status</th>\n",
       "      <th>income</th>\n",
       "    </tr>\n",
       "  </thead>\n",
       "  <tbody>\n",
       "    <tr>\n",
       "      <th>24521834</th>\n",
       "      <td>0</td>\n",
       "      <td>169044</td>\n",
       "      <td>1</td>\n",
       "      <td>6</td>\n",
       "      <td>7</td>\n",
       "      <td>NaN</td>\n",
       "      <td>Whole Vitamin D Milk</td>\n",
       "      <td>14.5</td>\n",
       "      <td>dairy eggs</td>\n",
       "      <td>milk</td>\n",
       "      <td>Female</td>\n",
       "      <td>Ohio</td>\n",
       "      <td>51</td>\n",
       "      <td>3/5/2020</td>\n",
       "      <td>married</td>\n",
       "      <td>106062</td>\n",
       "    </tr>\n",
       "    <tr>\n",
       "      <th>28286798</th>\n",
       "      <td>0</td>\n",
       "      <td>138143</td>\n",
       "      <td>8</td>\n",
       "      <td>4</td>\n",
       "      <td>16</td>\n",
       "      <td>27.0</td>\n",
       "      <td>Cotton Swabs</td>\n",
       "      <td>4.8</td>\n",
       "      <td>personal care</td>\n",
       "      <td>eye ear care</td>\n",
       "      <td>Male</td>\n",
       "      <td>Michigan</td>\n",
       "      <td>51</td>\n",
       "      <td>4/14/2017</td>\n",
       "      <td>married</td>\n",
       "      <td>33109</td>\n",
       "    </tr>\n",
       "    <tr>\n",
       "      <th>13472581</th>\n",
       "      <td>0</td>\n",
       "      <td>71645</td>\n",
       "      <td>10</td>\n",
       "      <td>2</td>\n",
       "      <td>8</td>\n",
       "      <td>27.0</td>\n",
       "      <td>Organic Greek Whole Milk Blended Vanilla Bean ...</td>\n",
       "      <td>5.9</td>\n",
       "      <td>dairy eggs</td>\n",
       "      <td>yogurt</td>\n",
       "      <td>Female</td>\n",
       "      <td>South Carolina</td>\n",
       "      <td>79</td>\n",
       "      <td>11/17/2018</td>\n",
       "      <td>married</td>\n",
       "      <td>68487</td>\n",
       "    </tr>\n",
       "  </tbody>\n",
       "</table>\n",
       "</div>"
      ],
      "text/plain": [
       "          reordered customer  order_number  order_weekday  order_hour_of_day  \\\n",
       "24521834          0   169044             1              6                  7   \n",
       "28286798          0   138143             8              4                 16   \n",
       "13472581          0    71645            10              2                  8   \n",
       "\n",
       "          days_since_last_order  \\\n",
       "24521834                    NaN   \n",
       "28286798                   27.0   \n",
       "13472581                   27.0   \n",
       "\n",
       "                                               product_name  prices  \\\n",
       "24521834                               Whole Vitamin D Milk    14.5   \n",
       "28286798                                       Cotton Swabs     4.8   \n",
       "13472581  Organic Greek Whole Milk Blended Vanilla Bean ...     5.9   \n",
       "\n",
       "             department         aisle  gender           state  age  \\\n",
       "24521834     dairy eggs          milk  Female            Ohio   51   \n",
       "28286798  personal care  eye ear care    Male        Michigan   51   \n",
       "13472581     dairy eggs        yogurt  Female  South Carolina   79   \n",
       "\n",
       "         date_joined civil_status  income  \n",
       "24521834    3/5/2020      married  106062  \n",
       "28286798   4/14/2017      married   33109  \n",
       "13472581  11/17/2018      married   68487  "
      ]
     },
     "execution_count": 47,
     "metadata": {},
     "output_type": "execute_result"
    }
   ],
   "source": [
    "# final check on data\n",
    "df_instacart.sample(3)"
   ]
  },
  {
   "cell_type": "markdown",
   "id": "2b1d32ff",
   "metadata": {},
   "source": [
    "### Exporting merged Data Set"
   ]
  },
  {
   "cell_type": "code",
   "execution_count": 48,
   "id": "f625ccf1",
   "metadata": {},
   "outputs": [],
   "source": [
    "df_instacart.to_pickle(os.path.join(path, '02 Data','Prepared Data', 'merged_data_set.pkl'))"
   ]
  }
 ],
 "metadata": {
  "kernelspec": {
   "display_name": "Python 3 (ipykernel)",
   "language": "python",
   "name": "python3"
  },
  "language_info": {
   "codemirror_mode": {
    "name": "ipython",
    "version": 3
   },
   "file_extension": ".py",
   "mimetype": "text/x-python",
   "name": "python",
   "nbconvert_exporter": "python",
   "pygments_lexer": "ipython3",
   "version": "3.11.5"
  }
 },
 "nbformat": 4,
 "nbformat_minor": 5
}
