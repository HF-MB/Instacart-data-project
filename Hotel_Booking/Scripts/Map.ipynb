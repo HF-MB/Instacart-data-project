{
 "cells": [
  {
   "cell_type": "markdown",
   "id": "52113723-451e-4df7-b2c0-39dde5b5515e",
   "metadata": {},
   "source": [
    "# Map"
   ]
  },
  {
   "cell_type": "markdown",
   "id": "f775c063-f74e-4843-8afb-c09b6f4e390f",
   "metadata": {},
   "source": [
    "## table of content"
   ]
  },
  {
   "cell_type": "markdown",
   "id": "abddc6e3-8405-4c3d-91c6-05d37b94dbbe",
   "metadata": {},
   "source": [
    "#### 1. Import data and libraries"
   ]
  },
  {
   "cell_type": "markdown",
   "id": "ad4ae0eb-8a40-4357-8afa-724d094f67d1",
   "metadata": {},
   "source": [
    "#### 2. Plotting a choropleth"
   ]
  },
  {
   "cell_type": "markdown",
   "id": "9b548646-2799-4c3a-9af4-9af1a625c366",
   "metadata": {},
   "source": [
    "## Import Data and Libraries"
   ]
  },
  {
   "cell_type": "code",
   "execution_count": null,
   "id": "3604ef8f",
   "metadata": {
    "vscode": {
     "languageId": "plaintext"
    }
   },
   "outputs": [],
   "source": [
    "import pandas as pd\n",
    "import numpy as np\n",
    "import seaborn as sns\n",
    "import matplotlib\n",
    "import os\n",
    "import folium\n",
    "import json"
   ]
  },
  {
   "cell_type": "code",
   "execution_count": null,
   "id": "c9a52eab",
   "metadata": {
    "vscode": {
     "languageId": "plaintext"
    }
   },
   "outputs": [],
   "source": [
    "# This command propts matplotlib visuals to appear in the notebook \n",
    "\n",
    "%matplotlib inline"
   ]
  },
  {
   "cell_type": "code",
   "execution_count": null,
   "id": "cb01ae3d",
   "metadata": {
    "vscode": {
     "languageId": "plaintext"
    }
   },
   "outputs": [],
   "source": [
    "# Import \".json\" file for countries around the world \n",
    "\n",
    "country_geo = r'/Users/henning/Portfolio/Hotel_Booking/Data/custom.geo.json'"
   ]
  },
  {
   "cell_type": "code",
   "execution_count": null,
   "id": "b799d261-2273-453a-9aac-b9f3b1474a57",
   "metadata": {},
   "outputs": [],
   "source": [
    "# Import the resort hotel data\n",
    "\n",
    "h1 = pd.read_csv(os.path.join(r'/Users/henning/Portfolio/Hotel_Booking/Data/H1.csv'))"
   ]
  },
  {
   "cell_type": "code",
   "execution_count": null,
   "id": "0bcef990-14cc-437b-a094-fe4331559862",
   "metadata": {},
   "outputs": [],
   "source": [
    "h1.head()"
   ]
  },
  {
   "cell_type": "markdown",
   "id": "ccb15dab-9a82-4dba-bd90-e440da45af86",
   "metadata": {},
   "source": [
    "## 2. Plotting a choropleth"
   ]
  },
  {
   "cell_type": "code",
   "execution_count": null,
   "id": "159dfde8-ca2b-4b74-b3f8-09fcb82c7965",
   "metadata": {},
   "outputs": [],
   "source": [
    "# Create a data frame with just the countries and the values of the ADR we want plotted\n",
    "\n",
    "data_to_plot = h1[['Country','ADR']]\n",
    "data_to_plot.head()"
   ]
  },
  {
   "cell_type": "code",
   "execution_count": null,
   "id": "04a67340-c1e1-4bc5-8a8a-ccc85dcf2315",
   "metadata": {},
   "outputs": [],
   "source": [
    "# Setup a folium map at a high-level zoom\n",
    "map = folium.Map(location = [100, 0], zoom_start = 1.5)\n",
    "\n",
    "# Choropleth maps bind Pandas Data Frames and json geometries.This allows us to quickly visualize data combinations\n",
    "folium.Choropleth(\n",
    "    geo_data = country_geo, \n",
    "    data = data_to_plot,\n",
    "    columns = ['Country', 'ADR'],\n",
    "    key_on = 'feature.properties.iso_a3_eh', # this part is very important - check your json file to see where the KEY is located\n",
    "    fill_color = 'GnBu', fill_opacity=0.6, line_opacity=0.1,\n",
    "    legend_name = \"ADR\",\n",
    "    nan_fill_color = \"white\").add_to(map)\n",
    "folium.LayerControl().add_to(map)\n",
    "\n",
    "map"
   ]
  },
  {
   "cell_type": "code",
   "execution_count": null,
   "id": "36145467-f978-4587-a2c1-ca2f1151a19f",
   "metadata": {},
   "outputs": [],
   "source": [
    "map.save(os.path.join(r'/Users/henning/Portfolio/Hotel_Booking/Map.html'))"
   ]
  }
 ],
 "metadata": {
  "kernelspec": {
   "display_name": "Python 3 (ipykernel)",
   "language": "python",
   "name": "python3"
  },
  "language_info": {
   "codemirror_mode": {
    "name": "ipython",
    "version": 3
   },
   "file_extension": ".py",
   "mimetype": "text/x-python",
   "name": "python",
   "nbconvert_exporter": "python",
   "pygments_lexer": "ipython3",
   "version": "3.11.5"
  }
 },
 "nbformat": 4,
 "nbformat_minor": 5
}
